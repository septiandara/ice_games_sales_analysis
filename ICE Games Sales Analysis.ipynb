{
 "cells": [
  {
   "cell_type": "markdown",
   "id": "9f629343",
   "metadata": {},
   "source": [
    "# Ice - Games Sales Analysis"
   ]
  },
  {
   "cell_type": "markdown",
   "id": "39830c6a",
   "metadata": {},
   "source": [
    "## Introduction\n",
    "\n",
    "A set of data has been provided to be analysed from an online game platform, Ice. The goal of this analysis is to determine which games will likely to succeed in various markets across the globe and which advertising campaigns the marketing team should prioritise.\n",
    "\n",
    "The analysis will be done in the following stages:\n",
    "1. Overview of the general information of the dataset to provide the big picture of the data of which we are about to analyse.\n",
    "2. Data preprocessing which shall include finding and replacing missing values and errors, removing duplicates, converting data types and adding relevant new column.\n",
    "3. Data categorisation and transformation for exploratory data analysis to view the correlation between multiple parameters and game sales.\n",
    "4. Testing hypotheses and achieving overall conclusions."
   ]
  },
  {
   "cell_type": "markdown",
   "id": "7122e854",
   "metadata": {},
   "source": [
    "## General Information"
   ]
  },
  {
   "cell_type": "code",
   "execution_count": 1,
   "id": "81903b91",
   "metadata": {},
   "outputs": [],
   "source": [
    "import pandas as pd\n",
    "import numpy as np\n",
    "import re\n",
    "import matplotlib.pyplot as plt\n",
    "from sklearn.neighbors import KernelDensity\n",
    "from scipy import stats as st\n",
    "from scipy.stats import spearmanr\n",
    "import matplotlib.gridspec as grid_spec\n",
    "import warnings\n",
    "warnings.simplefilter(\"ignore\")"
   ]
  },
  {
   "cell_type": "code",
   "execution_count": 2,
   "id": "93964f95",
   "metadata": {},
   "outputs": [],
   "source": [
    "# read the csv file\n",
    "try:\n",
    "    game_data = pd.read_csv('games.csv')\n",
    "except:\n",
    "    game_data = pd.read_csv('/datasets/games.csv')"
   ]
  },
  {
   "cell_type": "code",
   "execution_count": 3,
   "id": "c1ec372d",
   "metadata": {},
   "outputs": [
    {
     "name": "stdout",
     "output_type": "stream",
     "text": [
      "<class 'pandas.core.frame.DataFrame'>\n",
      "RangeIndex: 16715 entries, 0 to 16714\n",
      "Data columns (total 11 columns):\n",
      " #   Column           Non-Null Count  Dtype  \n",
      "---  ------           --------------  -----  \n",
      " 0   Name             16713 non-null  object \n",
      " 1   Platform         16715 non-null  object \n",
      " 2   Year_of_Release  16446 non-null  float64\n",
      " 3   Genre            16713 non-null  object \n",
      " 4   NA_sales         16715 non-null  float64\n",
      " 5   EU_sales         16715 non-null  float64\n",
      " 6   JP_sales         16715 non-null  float64\n",
      " 7   Other_sales      16715 non-null  float64\n",
      " 8   Critic_Score     8137 non-null   float64\n",
      " 9   User_Score       10014 non-null  object \n",
      " 10  Rating           9949 non-null   object \n",
      "dtypes: float64(6), object(5)\n",
      "memory usage: 1.4+ MB\n"
     ]
    }
   ],
   "source": [
    "game_data.info()"
   ]
  },
  {
   "cell_type": "code",
   "execution_count": 4,
   "id": "fb28ad57",
   "metadata": {},
   "outputs": [
    {
     "data": {
      "text/html": [
       "<div>\n",
       "<style scoped>\n",
       "    .dataframe tbody tr th:only-of-type {\n",
       "        vertical-align: middle;\n",
       "    }\n",
       "\n",
       "    .dataframe tbody tr th {\n",
       "        vertical-align: top;\n",
       "    }\n",
       "\n",
       "    .dataframe thead th {\n",
       "        text-align: right;\n",
       "    }\n",
       "</style>\n",
       "<table border=\"1\" class=\"dataframe\">\n",
       "  <thead>\n",
       "    <tr style=\"text-align: right;\">\n",
       "      <th></th>\n",
       "      <th>Name</th>\n",
       "      <th>Platform</th>\n",
       "      <th>Year_of_Release</th>\n",
       "      <th>Genre</th>\n",
       "      <th>NA_sales</th>\n",
       "      <th>EU_sales</th>\n",
       "      <th>JP_sales</th>\n",
       "      <th>Other_sales</th>\n",
       "      <th>Critic_Score</th>\n",
       "      <th>User_Score</th>\n",
       "      <th>Rating</th>\n",
       "    </tr>\n",
       "  </thead>\n",
       "  <tbody>\n",
       "    <tr>\n",
       "      <th>0</th>\n",
       "      <td>Wii Sports</td>\n",
       "      <td>Wii</td>\n",
       "      <td>2006.0</td>\n",
       "      <td>Sports</td>\n",
       "      <td>41.36</td>\n",
       "      <td>28.96</td>\n",
       "      <td>3.77</td>\n",
       "      <td>8.45</td>\n",
       "      <td>76.0</td>\n",
       "      <td>8</td>\n",
       "      <td>E</td>\n",
       "    </tr>\n",
       "    <tr>\n",
       "      <th>1</th>\n",
       "      <td>Super Mario Bros.</td>\n",
       "      <td>NES</td>\n",
       "      <td>1985.0</td>\n",
       "      <td>Platform</td>\n",
       "      <td>29.08</td>\n",
       "      <td>3.58</td>\n",
       "      <td>6.81</td>\n",
       "      <td>0.77</td>\n",
       "      <td>NaN</td>\n",
       "      <td>NaN</td>\n",
       "      <td>NaN</td>\n",
       "    </tr>\n",
       "    <tr>\n",
       "      <th>2</th>\n",
       "      <td>Mario Kart Wii</td>\n",
       "      <td>Wii</td>\n",
       "      <td>2008.0</td>\n",
       "      <td>Racing</td>\n",
       "      <td>15.68</td>\n",
       "      <td>12.76</td>\n",
       "      <td>3.79</td>\n",
       "      <td>3.29</td>\n",
       "      <td>82.0</td>\n",
       "      <td>8.3</td>\n",
       "      <td>E</td>\n",
       "    </tr>\n",
       "    <tr>\n",
       "      <th>3</th>\n",
       "      <td>Wii Sports Resort</td>\n",
       "      <td>Wii</td>\n",
       "      <td>2009.0</td>\n",
       "      <td>Sports</td>\n",
       "      <td>15.61</td>\n",
       "      <td>10.93</td>\n",
       "      <td>3.28</td>\n",
       "      <td>2.95</td>\n",
       "      <td>80.0</td>\n",
       "      <td>8</td>\n",
       "      <td>E</td>\n",
       "    </tr>\n",
       "    <tr>\n",
       "      <th>4</th>\n",
       "      <td>Pokemon Red/Pokemon Blue</td>\n",
       "      <td>GB</td>\n",
       "      <td>1996.0</td>\n",
       "      <td>Role-Playing</td>\n",
       "      <td>11.27</td>\n",
       "      <td>8.89</td>\n",
       "      <td>10.22</td>\n",
       "      <td>1.00</td>\n",
       "      <td>NaN</td>\n",
       "      <td>NaN</td>\n",
       "      <td>NaN</td>\n",
       "    </tr>\n",
       "  </tbody>\n",
       "</table>\n",
       "</div>"
      ],
      "text/plain": [
       "                       Name Platform  Year_of_Release         Genre  NA_sales  \\\n",
       "0                Wii Sports      Wii           2006.0        Sports     41.36   \n",
       "1         Super Mario Bros.      NES           1985.0      Platform     29.08   \n",
       "2            Mario Kart Wii      Wii           2008.0        Racing     15.68   \n",
       "3         Wii Sports Resort      Wii           2009.0        Sports     15.61   \n",
       "4  Pokemon Red/Pokemon Blue       GB           1996.0  Role-Playing     11.27   \n",
       "\n",
       "   EU_sales  JP_sales  Other_sales  Critic_Score User_Score Rating  \n",
       "0     28.96      3.77         8.45          76.0          8      E  \n",
       "1      3.58      6.81         0.77           NaN        NaN    NaN  \n",
       "2     12.76      3.79         3.29          82.0        8.3      E  \n",
       "3     10.93      3.28         2.95          80.0          8      E  \n",
       "4      8.89     10.22         1.00           NaN        NaN    NaN  "
      ]
     },
     "execution_count": 4,
     "metadata": {},
     "output_type": "execute_result"
    }
   ],
   "source": [
    "game_data.head()"
   ]
  },
  {
   "cell_type": "code",
   "execution_count": 5,
   "id": "d14f806e",
   "metadata": {
    "scrolled": true
   },
   "outputs": [
    {
     "data": {
      "text/html": [
       "<div>\n",
       "<style scoped>\n",
       "    .dataframe tbody tr th:only-of-type {\n",
       "        vertical-align: middle;\n",
       "    }\n",
       "\n",
       "    .dataframe tbody tr th {\n",
       "        vertical-align: top;\n",
       "    }\n",
       "\n",
       "    .dataframe thead th {\n",
       "        text-align: right;\n",
       "    }\n",
       "</style>\n",
       "<table border=\"1\" class=\"dataframe\">\n",
       "  <thead>\n",
       "    <tr style=\"text-align: right;\">\n",
       "      <th></th>\n",
       "      <th>Year_of_Release</th>\n",
       "      <th>NA_sales</th>\n",
       "      <th>EU_sales</th>\n",
       "      <th>JP_sales</th>\n",
       "      <th>Other_sales</th>\n",
       "      <th>Critic_Score</th>\n",
       "    </tr>\n",
       "  </thead>\n",
       "  <tbody>\n",
       "    <tr>\n",
       "      <th>count</th>\n",
       "      <td>16446.000000</td>\n",
       "      <td>16715.000000</td>\n",
       "      <td>16715.000000</td>\n",
       "      <td>16715.000000</td>\n",
       "      <td>16715.000000</td>\n",
       "      <td>8137.000000</td>\n",
       "    </tr>\n",
       "    <tr>\n",
       "      <th>mean</th>\n",
       "      <td>2006.484616</td>\n",
       "      <td>0.263377</td>\n",
       "      <td>0.145060</td>\n",
       "      <td>0.077617</td>\n",
       "      <td>0.047342</td>\n",
       "      <td>68.967679</td>\n",
       "    </tr>\n",
       "    <tr>\n",
       "      <th>std</th>\n",
       "      <td>5.877050</td>\n",
       "      <td>0.813604</td>\n",
       "      <td>0.503339</td>\n",
       "      <td>0.308853</td>\n",
       "      <td>0.186731</td>\n",
       "      <td>13.938165</td>\n",
       "    </tr>\n",
       "    <tr>\n",
       "      <th>min</th>\n",
       "      <td>1980.000000</td>\n",
       "      <td>0.000000</td>\n",
       "      <td>0.000000</td>\n",
       "      <td>0.000000</td>\n",
       "      <td>0.000000</td>\n",
       "      <td>13.000000</td>\n",
       "    </tr>\n",
       "    <tr>\n",
       "      <th>25%</th>\n",
       "      <td>2003.000000</td>\n",
       "      <td>0.000000</td>\n",
       "      <td>0.000000</td>\n",
       "      <td>0.000000</td>\n",
       "      <td>0.000000</td>\n",
       "      <td>60.000000</td>\n",
       "    </tr>\n",
       "    <tr>\n",
       "      <th>50%</th>\n",
       "      <td>2007.000000</td>\n",
       "      <td>0.080000</td>\n",
       "      <td>0.020000</td>\n",
       "      <td>0.000000</td>\n",
       "      <td>0.010000</td>\n",
       "      <td>71.000000</td>\n",
       "    </tr>\n",
       "    <tr>\n",
       "      <th>75%</th>\n",
       "      <td>2010.000000</td>\n",
       "      <td>0.240000</td>\n",
       "      <td>0.110000</td>\n",
       "      <td>0.040000</td>\n",
       "      <td>0.030000</td>\n",
       "      <td>79.000000</td>\n",
       "    </tr>\n",
       "    <tr>\n",
       "      <th>max</th>\n",
       "      <td>2016.000000</td>\n",
       "      <td>41.360000</td>\n",
       "      <td>28.960000</td>\n",
       "      <td>10.220000</td>\n",
       "      <td>10.570000</td>\n",
       "      <td>98.000000</td>\n",
       "    </tr>\n",
       "  </tbody>\n",
       "</table>\n",
       "</div>"
      ],
      "text/plain": [
       "       Year_of_Release      NA_sales      EU_sales      JP_sales  \\\n",
       "count     16446.000000  16715.000000  16715.000000  16715.000000   \n",
       "mean       2006.484616      0.263377      0.145060      0.077617   \n",
       "std           5.877050      0.813604      0.503339      0.308853   \n",
       "min        1980.000000      0.000000      0.000000      0.000000   \n",
       "25%        2003.000000      0.000000      0.000000      0.000000   \n",
       "50%        2007.000000      0.080000      0.020000      0.000000   \n",
       "75%        2010.000000      0.240000      0.110000      0.040000   \n",
       "max        2016.000000     41.360000     28.960000     10.220000   \n",
       "\n",
       "        Other_sales  Critic_Score  \n",
       "count  16715.000000   8137.000000  \n",
       "mean       0.047342     68.967679  \n",
       "std        0.186731     13.938165  \n",
       "min        0.000000     13.000000  \n",
       "25%        0.000000     60.000000  \n",
       "50%        0.010000     71.000000  \n",
       "75%        0.030000     79.000000  \n",
       "max       10.570000     98.000000  "
      ]
     },
     "execution_count": 5,
     "metadata": {},
     "output_type": "execute_result"
    }
   ],
   "source": [
    "game_data.describe()"
   ]
  },
  {
   "cell_type": "code",
   "execution_count": 6,
   "id": "7a3404a0",
   "metadata": {},
   "outputs": [
    {
     "data": {
      "text/html": [
       "<div>\n",
       "<style scoped>\n",
       "    .dataframe tbody tr th:only-of-type {\n",
       "        vertical-align: middle;\n",
       "    }\n",
       "\n",
       "    .dataframe tbody tr th {\n",
       "        vertical-align: top;\n",
       "    }\n",
       "\n",
       "    .dataframe thead th {\n",
       "        text-align: right;\n",
       "    }\n",
       "</style>\n",
       "<table border=\"1\" class=\"dataframe\">\n",
       "  <thead>\n",
       "    <tr style=\"text-align: right;\">\n",
       "      <th></th>\n",
       "      <th>missing_values</th>\n",
       "      <th>% of total</th>\n",
       "    </tr>\n",
       "  </thead>\n",
       "  <tbody>\n",
       "    <tr>\n",
       "      <th>Critic_Score</th>\n",
       "      <td>8578</td>\n",
       "      <td>51.0</td>\n",
       "    </tr>\n",
       "    <tr>\n",
       "      <th>Rating</th>\n",
       "      <td>6766</td>\n",
       "      <td>40.0</td>\n",
       "    </tr>\n",
       "    <tr>\n",
       "      <th>User_Score</th>\n",
       "      <td>6701</td>\n",
       "      <td>40.0</td>\n",
       "    </tr>\n",
       "    <tr>\n",
       "      <th>Year_of_Release</th>\n",
       "      <td>269</td>\n",
       "      <td>2.0</td>\n",
       "    </tr>\n",
       "    <tr>\n",
       "      <th>Name</th>\n",
       "      <td>2</td>\n",
       "      <td>0.0</td>\n",
       "    </tr>\n",
       "    <tr>\n",
       "      <th>Genre</th>\n",
       "      <td>2</td>\n",
       "      <td>0.0</td>\n",
       "    </tr>\n",
       "    <tr>\n",
       "      <th>Platform</th>\n",
       "      <td>0</td>\n",
       "      <td>0.0</td>\n",
       "    </tr>\n",
       "    <tr>\n",
       "      <th>NA_sales</th>\n",
       "      <td>0</td>\n",
       "      <td>0.0</td>\n",
       "    </tr>\n",
       "    <tr>\n",
       "      <th>EU_sales</th>\n",
       "      <td>0</td>\n",
       "      <td>0.0</td>\n",
       "    </tr>\n",
       "    <tr>\n",
       "      <th>JP_sales</th>\n",
       "      <td>0</td>\n",
       "      <td>0.0</td>\n",
       "    </tr>\n",
       "    <tr>\n",
       "      <th>Other_sales</th>\n",
       "      <td>0</td>\n",
       "      <td>0.0</td>\n",
       "    </tr>\n",
       "  </tbody>\n",
       "</table>\n",
       "</div>"
      ],
      "text/plain": [
       "                 missing_values  % of total\n",
       "Critic_Score               8578        51.0\n",
       "Rating                     6766        40.0\n",
       "User_Score                 6701        40.0\n",
       "Year_of_Release             269         2.0\n",
       "Name                          2         0.0\n",
       "Genre                         2         0.0\n",
       "Platform                      0         0.0\n",
       "NA_sales                      0         0.0\n",
       "EU_sales                      0         0.0\n",
       "JP_sales                      0         0.0\n",
       "Other_sales                   0         0.0"
      ]
     },
     "execution_count": 6,
     "metadata": {},
     "output_type": "execute_result"
    }
   ],
   "source": [
    "#check the percentage of missing values in the dataset\n",
    "report = game_data.isna().sum().to_frame()\n",
    "report = report.rename(columns = {0: 'missing_values'})\n",
    "report['% of total'] = (report['missing_values'] / game_data.shape[0]).round(2) * 100\n",
    "report.sort_values(by = 'missing_values', ascending = False)"
   ]
  },
  {
   "cell_type": "markdown",
   "id": "67852f15",
   "metadata": {},
   "source": [
    "### General Information Summary\n",
    "\n",
    "1. The dataset has 10 columns, consisting of quantitative and categorical data.\n",
    "2. There are some missing values and errors in several columns, some of them have pretty big percentage that may skew the data if dropped or filled randomly.\n",
    "3. Some of the data types are incorrect, this may cause problems upon further analysis.\n",
    "\n",
    "By initially looking at the dataset and general information about the data, the structure of the data is starting to show. We can now proceed to process the data for the missing values, data categorisation and outliers identification and removal to prepare us for further analysis."
   ]
  },
  {
   "cell_type": "markdown",
   "id": "4f42c86d",
   "metadata": {},
   "source": [
    "## Data Preprocessing"
   ]
  },
  {
   "cell_type": "code",
   "execution_count": 7,
   "id": "b0cbdd38",
   "metadata": {},
   "outputs": [
    {
     "data": {
      "text/html": [
       "<div>\n",
       "<style scoped>\n",
       "    .dataframe tbody tr th:only-of-type {\n",
       "        vertical-align: middle;\n",
       "    }\n",
       "\n",
       "    .dataframe tbody tr th {\n",
       "        vertical-align: top;\n",
       "    }\n",
       "\n",
       "    .dataframe thead th {\n",
       "        text-align: right;\n",
       "    }\n",
       "</style>\n",
       "<table border=\"1\" class=\"dataframe\">\n",
       "  <thead>\n",
       "    <tr style=\"text-align: right;\">\n",
       "      <th></th>\n",
       "      <th>name</th>\n",
       "      <th>platform</th>\n",
       "      <th>year_of_release</th>\n",
       "      <th>genre</th>\n",
       "      <th>na_sales</th>\n",
       "      <th>eu_sales</th>\n",
       "      <th>jp_sales</th>\n",
       "      <th>other_sales</th>\n",
       "      <th>critic_score</th>\n",
       "      <th>user_score</th>\n",
       "      <th>rating</th>\n",
       "    </tr>\n",
       "  </thead>\n",
       "  <tbody>\n",
       "    <tr>\n",
       "      <th>0</th>\n",
       "      <td>Wii Sports</td>\n",
       "      <td>Wii</td>\n",
       "      <td>2006.0</td>\n",
       "      <td>Sports</td>\n",
       "      <td>41.36</td>\n",
       "      <td>28.96</td>\n",
       "      <td>3.77</td>\n",
       "      <td>8.45</td>\n",
       "      <td>76.0</td>\n",
       "      <td>8</td>\n",
       "      <td>E</td>\n",
       "    </tr>\n",
       "    <tr>\n",
       "      <th>1</th>\n",
       "      <td>Super Mario Bros.</td>\n",
       "      <td>NES</td>\n",
       "      <td>1985.0</td>\n",
       "      <td>Platform</td>\n",
       "      <td>29.08</td>\n",
       "      <td>3.58</td>\n",
       "      <td>6.81</td>\n",
       "      <td>0.77</td>\n",
       "      <td>NaN</td>\n",
       "      <td>NaN</td>\n",
       "      <td>NaN</td>\n",
       "    </tr>\n",
       "    <tr>\n",
       "      <th>2</th>\n",
       "      <td>Mario Kart Wii</td>\n",
       "      <td>Wii</td>\n",
       "      <td>2008.0</td>\n",
       "      <td>Racing</td>\n",
       "      <td>15.68</td>\n",
       "      <td>12.76</td>\n",
       "      <td>3.79</td>\n",
       "      <td>3.29</td>\n",
       "      <td>82.0</td>\n",
       "      <td>8.3</td>\n",
       "      <td>E</td>\n",
       "    </tr>\n",
       "    <tr>\n",
       "      <th>3</th>\n",
       "      <td>Wii Sports Resort</td>\n",
       "      <td>Wii</td>\n",
       "      <td>2009.0</td>\n",
       "      <td>Sports</td>\n",
       "      <td>15.61</td>\n",
       "      <td>10.93</td>\n",
       "      <td>3.28</td>\n",
       "      <td>2.95</td>\n",
       "      <td>80.0</td>\n",
       "      <td>8</td>\n",
       "      <td>E</td>\n",
       "    </tr>\n",
       "    <tr>\n",
       "      <th>4</th>\n",
       "      <td>Pokemon Red/Pokemon Blue</td>\n",
       "      <td>GB</td>\n",
       "      <td>1996.0</td>\n",
       "      <td>Role-Playing</td>\n",
       "      <td>11.27</td>\n",
       "      <td>8.89</td>\n",
       "      <td>10.22</td>\n",
       "      <td>1.00</td>\n",
       "      <td>NaN</td>\n",
       "      <td>NaN</td>\n",
       "      <td>NaN</td>\n",
       "    </tr>\n",
       "  </tbody>\n",
       "</table>\n",
       "</div>"
      ],
      "text/plain": [
       "                       name platform  year_of_release         genre  na_sales  \\\n",
       "0                Wii Sports      Wii           2006.0        Sports     41.36   \n",
       "1         Super Mario Bros.      NES           1985.0      Platform     29.08   \n",
       "2            Mario Kart Wii      Wii           2008.0        Racing     15.68   \n",
       "3         Wii Sports Resort      Wii           2009.0        Sports     15.61   \n",
       "4  Pokemon Red/Pokemon Blue       GB           1996.0  Role-Playing     11.27   \n",
       "\n",
       "   eu_sales  jp_sales  other_sales  critic_score user_score rating  \n",
       "0     28.96      3.77         8.45          76.0          8      E  \n",
       "1      3.58      6.81         0.77           NaN        NaN    NaN  \n",
       "2     12.76      3.79         3.29          82.0        8.3      E  \n",
       "3     10.93      3.28         2.95          80.0          8      E  \n",
       "4      8.89     10.22         1.00           NaN        NaN    NaN  "
      ]
     },
     "execution_count": 7,
     "metadata": {},
     "output_type": "execute_result"
    }
   ],
   "source": [
    "# replace column names to lowercase\n",
    "game_data.columns = game_data.columns.str.lower()\n",
    "game_data.head()"
   ]
  },
  {
   "cell_type": "markdown",
   "id": "078525b7",
   "metadata": {},
   "source": [
    "### Name"
   ]
  },
  {
   "cell_type": "code",
   "execution_count": 8,
   "id": "5d7d6e2f",
   "metadata": {},
   "outputs": [
    {
     "data": {
      "text/html": [
       "<div>\n",
       "<style scoped>\n",
       "    .dataframe tbody tr th:only-of-type {\n",
       "        vertical-align: middle;\n",
       "    }\n",
       "\n",
       "    .dataframe tbody tr th {\n",
       "        vertical-align: top;\n",
       "    }\n",
       "\n",
       "    .dataframe thead th {\n",
       "        text-align: right;\n",
       "    }\n",
       "</style>\n",
       "<table border=\"1\" class=\"dataframe\">\n",
       "  <thead>\n",
       "    <tr style=\"text-align: right;\">\n",
       "      <th></th>\n",
       "      <th>name</th>\n",
       "      <th>platform</th>\n",
       "      <th>year_of_release</th>\n",
       "      <th>genre</th>\n",
       "      <th>na_sales</th>\n",
       "      <th>eu_sales</th>\n",
       "      <th>jp_sales</th>\n",
       "      <th>other_sales</th>\n",
       "      <th>critic_score</th>\n",
       "      <th>user_score</th>\n",
       "      <th>rating</th>\n",
       "    </tr>\n",
       "  </thead>\n",
       "  <tbody>\n",
       "    <tr>\n",
       "      <th>659</th>\n",
       "      <td>NaN</td>\n",
       "      <td>GEN</td>\n",
       "      <td>1993.0</td>\n",
       "      <td>NaN</td>\n",
       "      <td>1.78</td>\n",
       "      <td>0.53</td>\n",
       "      <td>0.00</td>\n",
       "      <td>0.08</td>\n",
       "      <td>NaN</td>\n",
       "      <td>NaN</td>\n",
       "      <td>NaN</td>\n",
       "    </tr>\n",
       "    <tr>\n",
       "      <th>14244</th>\n",
       "      <td>NaN</td>\n",
       "      <td>GEN</td>\n",
       "      <td>1993.0</td>\n",
       "      <td>NaN</td>\n",
       "      <td>0.00</td>\n",
       "      <td>0.00</td>\n",
       "      <td>0.03</td>\n",
       "      <td>0.00</td>\n",
       "      <td>NaN</td>\n",
       "      <td>NaN</td>\n",
       "      <td>NaN</td>\n",
       "    </tr>\n",
       "  </tbody>\n",
       "</table>\n",
       "</div>"
      ],
      "text/plain": [
       "      name platform  year_of_release genre  na_sales  eu_sales  jp_sales  \\\n",
       "659    NaN      GEN           1993.0   NaN      1.78      0.53      0.00   \n",
       "14244  NaN      GEN           1993.0   NaN      0.00      0.00      0.03   \n",
       "\n",
       "       other_sales  critic_score user_score rating  \n",
       "659           0.08           NaN        NaN    NaN  \n",
       "14244         0.00           NaN        NaN    NaN  "
      ]
     },
     "execution_count": 8,
     "metadata": {},
     "output_type": "execute_result"
    }
   ],
   "source": [
    "game_data.loc[game_data['name'].isna()]"
   ]
  },
  {
   "cell_type": "markdown",
   "id": "e3b7d172",
   "metadata": {},
   "source": [
    "These games look quite old and there is not obvious pattern as to why the name is missing, it could be a mistake upon data entry. Since there are only 2 of them in the entire dataset, we can drop them without skewing the dataset."
   ]
  },
  {
   "cell_type": "code",
   "execution_count": 9,
   "id": "a47370e8",
   "metadata": {},
   "outputs": [],
   "source": [
    "# drop the missing values\n",
    "game_data = game_data.dropna(subset=['name'], axis=0)"
   ]
  },
  {
   "cell_type": "code",
   "execution_count": 10,
   "id": "c5e83ea9",
   "metadata": {},
   "outputs": [],
   "source": [
    "game_data = game_data.reset_index()"
   ]
  },
  {
   "cell_type": "code",
   "execution_count": 11,
   "id": "fae93395",
   "metadata": {},
   "outputs": [
    {
     "data": {
      "text/plain": [
       "0"
      ]
     },
     "execution_count": 11,
     "metadata": {},
     "output_type": "execute_result"
    }
   ],
   "source": [
    "game_data['name'].isna().sum()"
   ]
  },
  {
   "cell_type": "markdown",
   "id": "172d4ee0",
   "metadata": {},
   "source": [
    "### Year of Release"
   ]
  },
  {
   "cell_type": "markdown",
   "id": "d83b3391",
   "metadata": {},
   "source": [
    "There are 2% of missing values in the year of release, let's take a look at them first and find out the possible reason why are they missing."
   ]
  },
  {
   "cell_type": "code",
   "execution_count": 12,
   "id": "ad8d9bdb",
   "metadata": {},
   "outputs": [
    {
     "data": {
      "text/html": [
       "<div>\n",
       "<style scoped>\n",
       "    .dataframe tbody tr th:only-of-type {\n",
       "        vertical-align: middle;\n",
       "    }\n",
       "\n",
       "    .dataframe tbody tr th {\n",
       "        vertical-align: top;\n",
       "    }\n",
       "\n",
       "    .dataframe thead th {\n",
       "        text-align: right;\n",
       "    }\n",
       "</style>\n",
       "<table border=\"1\" class=\"dataframe\">\n",
       "  <thead>\n",
       "    <tr style=\"text-align: right;\">\n",
       "      <th></th>\n",
       "      <th>index</th>\n",
       "      <th>name</th>\n",
       "      <th>platform</th>\n",
       "      <th>year_of_release</th>\n",
       "      <th>genre</th>\n",
       "      <th>na_sales</th>\n",
       "      <th>eu_sales</th>\n",
       "      <th>jp_sales</th>\n",
       "      <th>other_sales</th>\n",
       "      <th>critic_score</th>\n",
       "      <th>user_score</th>\n",
       "      <th>rating</th>\n",
       "    </tr>\n",
       "  </thead>\n",
       "  <tbody>\n",
       "    <tr>\n",
       "      <th>183</th>\n",
       "      <td>183</td>\n",
       "      <td>Madden NFL 2004</td>\n",
       "      <td>PS2</td>\n",
       "      <td>NaN</td>\n",
       "      <td>Sports</td>\n",
       "      <td>4.26</td>\n",
       "      <td>0.26</td>\n",
       "      <td>0.01</td>\n",
       "      <td>0.71</td>\n",
       "      <td>94.0</td>\n",
       "      <td>8.5</td>\n",
       "      <td>E</td>\n",
       "    </tr>\n",
       "    <tr>\n",
       "      <th>377</th>\n",
       "      <td>377</td>\n",
       "      <td>FIFA Soccer 2004</td>\n",
       "      <td>PS2</td>\n",
       "      <td>NaN</td>\n",
       "      <td>Sports</td>\n",
       "      <td>0.59</td>\n",
       "      <td>2.36</td>\n",
       "      <td>0.04</td>\n",
       "      <td>0.51</td>\n",
       "      <td>84.0</td>\n",
       "      <td>6.4</td>\n",
       "      <td>E</td>\n",
       "    </tr>\n",
       "    <tr>\n",
       "      <th>456</th>\n",
       "      <td>456</td>\n",
       "      <td>LEGO Batman: The Videogame</td>\n",
       "      <td>Wii</td>\n",
       "      <td>NaN</td>\n",
       "      <td>Action</td>\n",
       "      <td>1.80</td>\n",
       "      <td>0.97</td>\n",
       "      <td>0.00</td>\n",
       "      <td>0.29</td>\n",
       "      <td>74.0</td>\n",
       "      <td>7.9</td>\n",
       "      <td>E10+</td>\n",
       "    </tr>\n",
       "    <tr>\n",
       "      <th>475</th>\n",
       "      <td>475</td>\n",
       "      <td>wwe Smackdown vs. Raw 2006</td>\n",
       "      <td>PS2</td>\n",
       "      <td>NaN</td>\n",
       "      <td>Fighting</td>\n",
       "      <td>1.57</td>\n",
       "      <td>1.02</td>\n",
       "      <td>0.00</td>\n",
       "      <td>0.41</td>\n",
       "      <td>NaN</td>\n",
       "      <td>NaN</td>\n",
       "      <td>NaN</td>\n",
       "    </tr>\n",
       "    <tr>\n",
       "      <th>609</th>\n",
       "      <td>609</td>\n",
       "      <td>Space Invaders</td>\n",
       "      <td>2600</td>\n",
       "      <td>NaN</td>\n",
       "      <td>Shooter</td>\n",
       "      <td>2.36</td>\n",
       "      <td>0.14</td>\n",
       "      <td>0.00</td>\n",
       "      <td>0.03</td>\n",
       "      <td>NaN</td>\n",
       "      <td>NaN</td>\n",
       "      <td>NaN</td>\n",
       "    </tr>\n",
       "  </tbody>\n",
       "</table>\n",
       "</div>"
      ],
      "text/plain": [
       "     index                        name platform  year_of_release     genre  \\\n",
       "183    183             Madden NFL 2004      PS2              NaN    Sports   \n",
       "377    377            FIFA Soccer 2004      PS2              NaN    Sports   \n",
       "456    456  LEGO Batman: The Videogame      Wii              NaN    Action   \n",
       "475    475  wwe Smackdown vs. Raw 2006      PS2              NaN  Fighting   \n",
       "609    609              Space Invaders     2600              NaN   Shooter   \n",
       "\n",
       "     na_sales  eu_sales  jp_sales  other_sales  critic_score user_score rating  \n",
       "183      4.26      0.26      0.01         0.71          94.0        8.5      E  \n",
       "377      0.59      2.36      0.04         0.51          84.0        6.4      E  \n",
       "456      1.80      0.97      0.00         0.29          74.0        7.9   E10+  \n",
       "475      1.57      1.02      0.00         0.41           NaN        NaN    NaN  \n",
       "609      2.36      0.14      0.00         0.03           NaN        NaN    NaN  "
      ]
     },
     "execution_count": 12,
     "metadata": {},
     "output_type": "execute_result"
    }
   ],
   "source": [
    "game_data[game_data['year_of_release'].isna()].head()"
   ]
  },
  {
   "cell_type": "markdown",
   "id": "be15caa2",
   "metadata": {},
   "source": [
    "Some of the games have the year in their name, such as FIFA Soccer 2004, we can assume it is released in 2004 so we can fill them into the missing year of release values."
   ]
  },
  {
   "cell_type": "code",
   "execution_count": 13,
   "id": "1232f1a0",
   "metadata": {},
   "outputs": [
    {
     "name": "stdout",
     "output_type": "stream",
     "text": [
      "0       15940\n",
      "2002       74\n",
      "2004       61\n",
      "2000       61\n",
      "2010       59\n",
      "2005       51\n",
      "2003       50\n",
      "2009       46\n",
      "2001       44\n",
      "2011       43\n",
      "2008       43\n",
      "2014       39\n",
      "2015       35\n",
      "2016       34\n",
      "2012       32\n",
      "2006       31\n",
      "2013       28\n",
      "2007       22\n",
      "2017       16\n",
      "1996        2\n",
      "1999        2\n",
      "Name: result, dtype: int64\n"
     ]
    }
   ],
   "source": [
    "# create a column that pulls year in name to try and fill in the missing values in year of release\n",
    "result = []\n",
    "numbers = []\n",
    "\n",
    "for i in range(len(game_data)):\n",
    "    temp = re.findall(r'\\d+', str(game_data.name[i]))\n",
    "    res = list(map(int, temp))\n",
    "    result.append(res)\n",
    "    \n",
    "game_data['result'] = result\n",
    "\n",
    "i=0\n",
    "\n",
    "for i in range(len(game_data)):\n",
    "    game_data['result'][i] = str(game_data['result'][i])\n",
    "    if game_data['result'][i] == '[]':\n",
    "        game_data['result'][i] = '[0]'\n",
    "game_data['result'] = game_data['result'].str.strip('[')\n",
    "game_data['result'] = game_data['result'].str.strip(']')\n",
    "\n",
    "for i in range(len(game_data)):\n",
    "    if len(game_data['result'][i].split()) > 1:\n",
    "        game_data['result'][i] = 0\n",
    "game_data['result'] = game_data['result'].astype('int')\n",
    "\n",
    "for x in range(len(game_data)):\n",
    "    if game_data.result[x] < 1950 or game_data.result[x] > 2021:\n",
    "        game_data.result[x] = 0\n",
    "        \n",
    "print(game_data['result'].value_counts())"
   ]
  },
  {
   "cell_type": "code",
   "execution_count": 14,
   "id": "3fe33fc3",
   "metadata": {},
   "outputs": [],
   "source": [
    "# fill in the value in result to year of release\n",
    "game_data['year_of_release'].fillna(game_data['result'], inplace=True)"
   ]
  },
  {
   "cell_type": "code",
   "execution_count": 15,
   "id": "b171da31",
   "metadata": {},
   "outputs": [
    {
     "data": {
      "text/html": [
       "<div>\n",
       "<style scoped>\n",
       "    .dataframe tbody tr th:only-of-type {\n",
       "        vertical-align: middle;\n",
       "    }\n",
       "\n",
       "    .dataframe tbody tr th {\n",
       "        vertical-align: top;\n",
       "    }\n",
       "\n",
       "    .dataframe thead th {\n",
       "        text-align: right;\n",
       "    }\n",
       "</style>\n",
       "<table border=\"1\" class=\"dataframe\">\n",
       "  <thead>\n",
       "    <tr style=\"text-align: right;\">\n",
       "      <th></th>\n",
       "      <th>index</th>\n",
       "      <th>name</th>\n",
       "      <th>platform</th>\n",
       "      <th>year_of_release</th>\n",
       "      <th>genre</th>\n",
       "      <th>na_sales</th>\n",
       "      <th>eu_sales</th>\n",
       "      <th>jp_sales</th>\n",
       "      <th>other_sales</th>\n",
       "      <th>critic_score</th>\n",
       "      <th>user_score</th>\n",
       "      <th>rating</th>\n",
       "      <th>result</th>\n",
       "    </tr>\n",
       "  </thead>\n",
       "  <tbody>\n",
       "    <tr>\n",
       "      <th>456</th>\n",
       "      <td>456</td>\n",
       "      <td>LEGO Batman: The Videogame</td>\n",
       "      <td>Wii</td>\n",
       "      <td>0.0</td>\n",
       "      <td>Action</td>\n",
       "      <td>1.80</td>\n",
       "      <td>0.97</td>\n",
       "      <td>0.0</td>\n",
       "      <td>0.29</td>\n",
       "      <td>74.0</td>\n",
       "      <td>7.9</td>\n",
       "      <td>E10+</td>\n",
       "      <td>0</td>\n",
       "    </tr>\n",
       "    <tr>\n",
       "      <th>609</th>\n",
       "      <td>609</td>\n",
       "      <td>Space Invaders</td>\n",
       "      <td>2600</td>\n",
       "      <td>0.0</td>\n",
       "      <td>Shooter</td>\n",
       "      <td>2.36</td>\n",
       "      <td>0.14</td>\n",
       "      <td>0.0</td>\n",
       "      <td>0.03</td>\n",
       "      <td>NaN</td>\n",
       "      <td>NaN</td>\n",
       "      <td>NaN</td>\n",
       "      <td>0</td>\n",
       "    </tr>\n",
       "    <tr>\n",
       "      <th>627</th>\n",
       "      <td>627</td>\n",
       "      <td>Rock Band</td>\n",
       "      <td>X360</td>\n",
       "      <td>0.0</td>\n",
       "      <td>Misc</td>\n",
       "      <td>1.93</td>\n",
       "      <td>0.33</td>\n",
       "      <td>0.0</td>\n",
       "      <td>0.21</td>\n",
       "      <td>92.0</td>\n",
       "      <td>8.2</td>\n",
       "      <td>T</td>\n",
       "      <td>0</td>\n",
       "    </tr>\n",
       "    <tr>\n",
       "      <th>657</th>\n",
       "      <td>657</td>\n",
       "      <td>Frogger's Adventures: Temple of the Frog</td>\n",
       "      <td>GBA</td>\n",
       "      <td>0.0</td>\n",
       "      <td>Adventure</td>\n",
       "      <td>2.15</td>\n",
       "      <td>0.18</td>\n",
       "      <td>0.0</td>\n",
       "      <td>0.07</td>\n",
       "      <td>73.0</td>\n",
       "      <td>tbd</td>\n",
       "      <td>E</td>\n",
       "      <td>0</td>\n",
       "    </tr>\n",
       "    <tr>\n",
       "      <th>677</th>\n",
       "      <td>678</td>\n",
       "      <td>LEGO Indiana Jones: The Original Adventures</td>\n",
       "      <td>Wii</td>\n",
       "      <td>0.0</td>\n",
       "      <td>Action</td>\n",
       "      <td>1.51</td>\n",
       "      <td>0.61</td>\n",
       "      <td>0.0</td>\n",
       "      <td>0.21</td>\n",
       "      <td>78.0</td>\n",
       "      <td>6.6</td>\n",
       "      <td>E10+</td>\n",
       "      <td>0</td>\n",
       "    </tr>\n",
       "  </tbody>\n",
       "</table>\n",
       "</div>"
      ],
      "text/plain": [
       "     index                                         name platform  \\\n",
       "456    456                   LEGO Batman: The Videogame      Wii   \n",
       "609    609                               Space Invaders     2600   \n",
       "627    627                                    Rock Band     X360   \n",
       "657    657     Frogger's Adventures: Temple of the Frog      GBA   \n",
       "677    678  LEGO Indiana Jones: The Original Adventures      Wii   \n",
       "\n",
       "     year_of_release      genre  na_sales  eu_sales  jp_sales  other_sales  \\\n",
       "456              0.0     Action      1.80      0.97       0.0         0.29   \n",
       "609              0.0    Shooter      2.36      0.14       0.0         0.03   \n",
       "627              0.0       Misc      1.93      0.33       0.0         0.21   \n",
       "657              0.0  Adventure      2.15      0.18       0.0         0.07   \n",
       "677              0.0     Action      1.51      0.61       0.0         0.21   \n",
       "\n",
       "     critic_score user_score rating  result  \n",
       "456          74.0        7.9   E10+       0  \n",
       "609           NaN        NaN    NaN       0  \n",
       "627          92.0        8.2      T       0  \n",
       "657          73.0        tbd      E       0  \n",
       "677          78.0        6.6   E10+       0  "
      ]
     },
     "execution_count": 15,
     "metadata": {},
     "output_type": "execute_result"
    }
   ],
   "source": [
    "game_data.loc[game_data['year_of_release'] == 0].head()"
   ]
  },
  {
   "cell_type": "markdown",
   "id": "f56f44a0",
   "metadata": {},
   "source": [
    "There are still plenty of missing values in year of release (transformed into 0), so we can try to fill them in with other parameters."
   ]
  },
  {
   "cell_type": "code",
   "execution_count": 16,
   "id": "abec371c",
   "metadata": {},
   "outputs": [],
   "source": [
    "game_data.loc[game_data['year_of_release'] == 0, 'year_of_release'] = np.nan"
   ]
  },
  {
   "cell_type": "code",
   "execution_count": 17,
   "id": "9a131829",
   "metadata": {},
   "outputs": [],
   "source": [
    "game_data['year_of_release'] = game_data.groupby(['platform','genre'])['year_of_release'].apply(lambda x: x.fillna(x.mean()))"
   ]
  },
  {
   "cell_type": "code",
   "execution_count": 18,
   "id": "f6476094",
   "metadata": {},
   "outputs": [],
   "source": [
    "game_data['year_of_release'] = game_data['year_of_release'].astype(int)"
   ]
  },
  {
   "cell_type": "code",
   "execution_count": 19,
   "id": "8dedb00f",
   "metadata": {},
   "outputs": [
    {
     "data": {
      "text/plain": [
       "0"
      ]
     },
     "execution_count": 19,
     "metadata": {},
     "output_type": "execute_result"
    }
   ],
   "source": [
    "game_data['year_of_release'].isna().sum()"
   ]
  },
  {
   "cell_type": "markdown",
   "id": "8be7a108",
   "metadata": {},
   "source": [
    "### Total Sales"
   ]
  },
  {
   "cell_type": "code",
   "execution_count": 20,
   "id": "8ac981b5",
   "metadata": {},
   "outputs": [],
   "source": [
    "# add total sales column\n",
    "game_data['total_sales'] = game_data['na_sales'] + game_data['eu_sales'] + game_data['jp_sales'] + game_data['other_sales']"
   ]
  },
  {
   "cell_type": "markdown",
   "id": "cc4e185e",
   "metadata": {},
   "source": [
    "### Scores"
   ]
  },
  {
   "cell_type": "code",
   "execution_count": 21,
   "id": "2a2b9a02",
   "metadata": {},
   "outputs": [],
   "source": [
    "# change TBD to NaN\n",
    "game_data.loc[game_data['user_score'] == 'tbd', 'user_score'] = np.nan"
   ]
  },
  {
   "cell_type": "code",
   "execution_count": 22,
   "id": "82d0a16d",
   "metadata": {},
   "outputs": [
    {
     "data": {
      "text/html": [
       "<div>\n",
       "<style scoped>\n",
       "    .dataframe tbody tr th:only-of-type {\n",
       "        vertical-align: middle;\n",
       "    }\n",
       "\n",
       "    .dataframe tbody tr th {\n",
       "        vertical-align: top;\n",
       "    }\n",
       "\n",
       "    .dataframe thead th {\n",
       "        text-align: right;\n",
       "    }\n",
       "</style>\n",
       "<table border=\"1\" class=\"dataframe\">\n",
       "  <thead>\n",
       "    <tr style=\"text-align: right;\">\n",
       "      <th></th>\n",
       "      <th>index</th>\n",
       "      <th>name</th>\n",
       "      <th>platform</th>\n",
       "      <th>year_of_release</th>\n",
       "      <th>genre</th>\n",
       "      <th>na_sales</th>\n",
       "      <th>eu_sales</th>\n",
       "      <th>jp_sales</th>\n",
       "      <th>other_sales</th>\n",
       "      <th>critic_score</th>\n",
       "      <th>user_score</th>\n",
       "      <th>rating</th>\n",
       "      <th>result</th>\n",
       "      <th>total_sales</th>\n",
       "    </tr>\n",
       "  </thead>\n",
       "  <tbody>\n",
       "    <tr>\n",
       "      <th>1</th>\n",
       "      <td>1</td>\n",
       "      <td>Super Mario Bros.</td>\n",
       "      <td>NES</td>\n",
       "      <td>1985</td>\n",
       "      <td>Platform</td>\n",
       "      <td>29.08</td>\n",
       "      <td>3.58</td>\n",
       "      <td>6.81</td>\n",
       "      <td>0.77</td>\n",
       "      <td>NaN</td>\n",
       "      <td>NaN</td>\n",
       "      <td>NaN</td>\n",
       "      <td>0</td>\n",
       "      <td>40.24</td>\n",
       "    </tr>\n",
       "    <tr>\n",
       "      <th>4</th>\n",
       "      <td>4</td>\n",
       "      <td>Pokemon Red/Pokemon Blue</td>\n",
       "      <td>GB</td>\n",
       "      <td>1996</td>\n",
       "      <td>Role-Playing</td>\n",
       "      <td>11.27</td>\n",
       "      <td>8.89</td>\n",
       "      <td>10.22</td>\n",
       "      <td>1.00</td>\n",
       "      <td>NaN</td>\n",
       "      <td>NaN</td>\n",
       "      <td>NaN</td>\n",
       "      <td>0</td>\n",
       "      <td>31.38</td>\n",
       "    </tr>\n",
       "    <tr>\n",
       "      <th>5</th>\n",
       "      <td>5</td>\n",
       "      <td>Tetris</td>\n",
       "      <td>GB</td>\n",
       "      <td>1989</td>\n",
       "      <td>Puzzle</td>\n",
       "      <td>23.20</td>\n",
       "      <td>2.26</td>\n",
       "      <td>4.22</td>\n",
       "      <td>0.58</td>\n",
       "      <td>NaN</td>\n",
       "      <td>NaN</td>\n",
       "      <td>NaN</td>\n",
       "      <td>0</td>\n",
       "      <td>30.26</td>\n",
       "    </tr>\n",
       "    <tr>\n",
       "      <th>9</th>\n",
       "      <td>9</td>\n",
       "      <td>Duck Hunt</td>\n",
       "      <td>NES</td>\n",
       "      <td>1984</td>\n",
       "      <td>Shooter</td>\n",
       "      <td>26.93</td>\n",
       "      <td>0.63</td>\n",
       "      <td>0.28</td>\n",
       "      <td>0.47</td>\n",
       "      <td>NaN</td>\n",
       "      <td>NaN</td>\n",
       "      <td>NaN</td>\n",
       "      <td>0</td>\n",
       "      <td>28.31</td>\n",
       "    </tr>\n",
       "    <tr>\n",
       "      <th>10</th>\n",
       "      <td>10</td>\n",
       "      <td>Nintendogs</td>\n",
       "      <td>DS</td>\n",
       "      <td>2005</td>\n",
       "      <td>Simulation</td>\n",
       "      <td>9.05</td>\n",
       "      <td>10.95</td>\n",
       "      <td>1.93</td>\n",
       "      <td>2.74</td>\n",
       "      <td>NaN</td>\n",
       "      <td>NaN</td>\n",
       "      <td>NaN</td>\n",
       "      <td>0</td>\n",
       "      <td>24.67</td>\n",
       "    </tr>\n",
       "  </tbody>\n",
       "</table>\n",
       "</div>"
      ],
      "text/plain": [
       "    index                      name platform  year_of_release         genre  \\\n",
       "1       1         Super Mario Bros.      NES             1985      Platform   \n",
       "4       4  Pokemon Red/Pokemon Blue       GB             1996  Role-Playing   \n",
       "5       5                    Tetris       GB             1989        Puzzle   \n",
       "9       9                 Duck Hunt      NES             1984       Shooter   \n",
       "10     10                Nintendogs       DS             2005    Simulation   \n",
       "\n",
       "    na_sales  eu_sales  jp_sales  other_sales  critic_score user_score rating  \\\n",
       "1      29.08      3.58      6.81         0.77           NaN        NaN    NaN   \n",
       "4      11.27      8.89     10.22         1.00           NaN        NaN    NaN   \n",
       "5      23.20      2.26      4.22         0.58           NaN        NaN    NaN   \n",
       "9      26.93      0.63      0.28         0.47           NaN        NaN    NaN   \n",
       "10      9.05     10.95      1.93         2.74           NaN        NaN    NaN   \n",
       "\n",
       "    result  total_sales  \n",
       "1        0        40.24  \n",
       "4        0        31.38  \n",
       "5        0        30.26  \n",
       "9        0        28.31  \n",
       "10       0        24.67  "
      ]
     },
     "execution_count": 22,
     "metadata": {},
     "output_type": "execute_result"
    }
   ],
   "source": [
    "game_data.loc[game_data['user_score'].isna()].head()"
   ]
  },
  {
   "cell_type": "markdown",
   "id": "1c13cc9f",
   "metadata": {},
   "source": [
    "By looking at those missing values in user_score, we can see that most of the time the critic_score and rating columns are also missing. It looks like they're mostly from old platforms.\n",
    "\n",
    "We can check if user_score has enough correlation with critic_score, if the result is high enough, we can fill in the missing values of user_score with median value of the same games grouped by their critic_score and vice versa. "
   ]
  },
  {
   "cell_type": "code",
   "execution_count": 23,
   "id": "d6f0a44b",
   "metadata": {},
   "outputs": [],
   "source": [
    "# convert user score from object to float\n",
    "game_data['user_score'] = game_data['user_score'].astype(float)"
   ]
  },
  {
   "cell_type": "code",
   "execution_count": 24,
   "id": "a7ca7117",
   "metadata": {},
   "outputs": [
    {
     "data": {
      "text/plain": [
       "0.5808778320767239"
      ]
     },
     "execution_count": 24,
     "metadata": {},
     "output_type": "execute_result"
    }
   ],
   "source": [
    "# check correlation between user_score and critic_score\n",
    "game_data['user_score'].corr(game_data['critic_score'])"
   ]
  },
  {
   "cell_type": "markdown",
   "id": "6e90c8a1",
   "metadata": {},
   "source": [
    "The result is high enough, around 0.58, therefore we can continue with the idea to fill in the missing values in user score with values in critic score and vice versa."
   ]
  },
  {
   "cell_type": "code",
   "execution_count": 25,
   "id": "1caddca0",
   "metadata": {},
   "outputs": [],
   "source": [
    "# fill in missing values in user and critic score\n",
    "game_data['user_score'] = game_data.groupby('critic_score')['user_score'].apply(lambda x: x.fillna(x.median()))\n",
    "game_data['critic_score'] = game_data.groupby('user_score')['critic_score'].apply(lambda x: x.fillna(x.median()))"
   ]
  },
  {
   "cell_type": "code",
   "execution_count": 26,
   "id": "3bbcb5bc",
   "metadata": {},
   "outputs": [
    {
     "name": "stdout",
     "output_type": "stream",
     "text": [
      "8576\n",
      "8576\n"
     ]
    }
   ],
   "source": [
    "print(game_data['user_score'].isna().sum())\n",
    "print(game_data['critic_score'].isna().sum())"
   ]
  },
  {
   "cell_type": "markdown",
   "id": "392f7771",
   "metadata": {},
   "source": [
    "There are still a lot of missing values in user and critic score so we will use additional parameter to fill them in."
   ]
  },
  {
   "cell_type": "code",
   "execution_count": 27,
   "id": "99c4d89f",
   "metadata": {},
   "outputs": [],
   "source": [
    "game_data['user_score'] = game_data.groupby(['total_sales', 'genre'])['user_score'].apply(lambda x: x.fillna(x.median()))\n",
    "game_data['critic_score'] = game_data.groupby(['total_sales', 'genre'])['critic_score'].apply(lambda x: x.fillna(x.median()))"
   ]
  },
  {
   "cell_type": "code",
   "execution_count": 28,
   "id": "172f4fda",
   "metadata": {},
   "outputs": [
    {
     "name": "stdout",
     "output_type": "stream",
     "text": [
      "5.887632381978101\n",
      "5.887632381978101\n"
     ]
    }
   ],
   "source": [
    "# check how much missing values left in the two columns\n",
    "print(game_data['user_score'].isna().sum() / len(game_data) * 100)\n",
    "print(game_data['critic_score'].isna().sum() / len(game_data) * 100)"
   ]
  },
  {
   "cell_type": "markdown",
   "id": "9fe19c5a",
   "metadata": {},
   "source": [
    "### Rating"
   ]
  },
  {
   "cell_type": "code",
   "execution_count": 29,
   "id": "63795f33",
   "metadata": {
    "scrolled": false
   },
   "outputs": [],
   "source": [
    "game_data['rating'] = game_data.groupby('genre')['rating'].apply(lambda x: x.fillna(x.mode()[0]))"
   ]
  },
  {
   "cell_type": "code",
   "execution_count": 30,
   "id": "6c070a40",
   "metadata": {},
   "outputs": [
    {
     "data": {
      "text/plain": [
       "0"
      ]
     },
     "execution_count": 30,
     "metadata": {},
     "output_type": "execute_result"
    }
   ],
   "source": [
    "game_data['rating'].isna().sum()"
   ]
  },
  {
   "cell_type": "code",
   "execution_count": 31,
   "id": "d1d46f95",
   "metadata": {
    "scrolled": false
   },
   "outputs": [
    {
     "data": {
      "text/html": [
       "<div>\n",
       "<style scoped>\n",
       "    .dataframe tbody tr th:only-of-type {\n",
       "        vertical-align: middle;\n",
       "    }\n",
       "\n",
       "    .dataframe tbody tr th {\n",
       "        vertical-align: top;\n",
       "    }\n",
       "\n",
       "    .dataframe thead th {\n",
       "        text-align: right;\n",
       "    }\n",
       "</style>\n",
       "<table border=\"1\" class=\"dataframe\">\n",
       "  <thead>\n",
       "    <tr style=\"text-align: right;\">\n",
       "      <th></th>\n",
       "      <th>missing_values</th>\n",
       "      <th>% of total</th>\n",
       "    </tr>\n",
       "  </thead>\n",
       "  <tbody>\n",
       "    <tr>\n",
       "      <th>critic_score</th>\n",
       "      <td>984</td>\n",
       "      <td>6.0</td>\n",
       "    </tr>\n",
       "    <tr>\n",
       "      <th>user_score</th>\n",
       "      <td>984</td>\n",
       "      <td>6.0</td>\n",
       "    </tr>\n",
       "    <tr>\n",
       "      <th>index</th>\n",
       "      <td>0</td>\n",
       "      <td>0.0</td>\n",
       "    </tr>\n",
       "    <tr>\n",
       "      <th>name</th>\n",
       "      <td>0</td>\n",
       "      <td>0.0</td>\n",
       "    </tr>\n",
       "    <tr>\n",
       "      <th>platform</th>\n",
       "      <td>0</td>\n",
       "      <td>0.0</td>\n",
       "    </tr>\n",
       "    <tr>\n",
       "      <th>year_of_release</th>\n",
       "      <td>0</td>\n",
       "      <td>0.0</td>\n",
       "    </tr>\n",
       "    <tr>\n",
       "      <th>genre</th>\n",
       "      <td>0</td>\n",
       "      <td>0.0</td>\n",
       "    </tr>\n",
       "    <tr>\n",
       "      <th>na_sales</th>\n",
       "      <td>0</td>\n",
       "      <td>0.0</td>\n",
       "    </tr>\n",
       "    <tr>\n",
       "      <th>eu_sales</th>\n",
       "      <td>0</td>\n",
       "      <td>0.0</td>\n",
       "    </tr>\n",
       "    <tr>\n",
       "      <th>jp_sales</th>\n",
       "      <td>0</td>\n",
       "      <td>0.0</td>\n",
       "    </tr>\n",
       "    <tr>\n",
       "      <th>other_sales</th>\n",
       "      <td>0</td>\n",
       "      <td>0.0</td>\n",
       "    </tr>\n",
       "    <tr>\n",
       "      <th>rating</th>\n",
       "      <td>0</td>\n",
       "      <td>0.0</td>\n",
       "    </tr>\n",
       "    <tr>\n",
       "      <th>result</th>\n",
       "      <td>0</td>\n",
       "      <td>0.0</td>\n",
       "    </tr>\n",
       "    <tr>\n",
       "      <th>total_sales</th>\n",
       "      <td>0</td>\n",
       "      <td>0.0</td>\n",
       "    </tr>\n",
       "  </tbody>\n",
       "</table>\n",
       "</div>"
      ],
      "text/plain": [
       "                 missing_values  % of total\n",
       "critic_score                984         6.0\n",
       "user_score                  984         6.0\n",
       "index                         0         0.0\n",
       "name                          0         0.0\n",
       "platform                      0         0.0\n",
       "year_of_release               0         0.0\n",
       "genre                         0         0.0\n",
       "na_sales                      0         0.0\n",
       "eu_sales                      0         0.0\n",
       "jp_sales                      0         0.0\n",
       "other_sales                   0         0.0\n",
       "rating                        0         0.0\n",
       "result                        0         0.0\n",
       "total_sales                   0         0.0"
      ]
     },
     "execution_count": 31,
     "metadata": {},
     "output_type": "execute_result"
    }
   ],
   "source": [
    "report = game_data.isna().sum().to_frame()\n",
    "report = report.rename(columns = {0: 'missing_values'})\n",
    "report['% of total'] = (report['missing_values'] / game_data.shape[0]).round(2) * 100\n",
    "report.sort_values(by = 'missing_values', ascending = False)"
   ]
  },
  {
   "cell_type": "markdown",
   "id": "3cea8cb3",
   "metadata": {},
   "source": [
    "Now only around 6% of the total data from user and critic score are still missing, we can leave them be for now until it's necessary to do drop or fill them later."
   ]
  },
  {
   "cell_type": "markdown",
   "id": "2414a8d9",
   "metadata": {},
   "source": [
    "### Checking Duplicates & Data Types"
   ]
  },
  {
   "cell_type": "code",
   "execution_count": 32,
   "id": "e1a4f2b6",
   "metadata": {},
   "outputs": [
    {
     "name": "stdout",
     "output_type": "stream",
     "text": [
      "This dataset has 0 duplicates.\n"
     ]
    }
   ],
   "source": [
    "# check for duplicates\n",
    "print('This dataset has {} duplicates.'.format(game_data.duplicated().sum()))"
   ]
  },
  {
   "cell_type": "code",
   "execution_count": 33,
   "id": "c3642c83",
   "metadata": {},
   "outputs": [],
   "source": [
    "# drop the result column\n",
    "game_data.drop(['result'], axis = 1, inplace=True)"
   ]
  },
  {
   "cell_type": "code",
   "execution_count": 34,
   "id": "2ab64583",
   "metadata": {},
   "outputs": [
    {
     "data": {
      "text/html": [
       "<div>\n",
       "<style scoped>\n",
       "    .dataframe tbody tr th:only-of-type {\n",
       "        vertical-align: middle;\n",
       "    }\n",
       "\n",
       "    .dataframe tbody tr th {\n",
       "        vertical-align: top;\n",
       "    }\n",
       "\n",
       "    .dataframe thead th {\n",
       "        text-align: right;\n",
       "    }\n",
       "</style>\n",
       "<table border=\"1\" class=\"dataframe\">\n",
       "  <thead>\n",
       "    <tr style=\"text-align: right;\">\n",
       "      <th></th>\n",
       "      <th>index</th>\n",
       "      <th>name</th>\n",
       "      <th>platform</th>\n",
       "      <th>year_of_release</th>\n",
       "      <th>genre</th>\n",
       "      <th>na_sales</th>\n",
       "      <th>eu_sales</th>\n",
       "      <th>jp_sales</th>\n",
       "      <th>other_sales</th>\n",
       "      <th>critic_score</th>\n",
       "      <th>user_score</th>\n",
       "      <th>rating</th>\n",
       "      <th>total_sales</th>\n",
       "    </tr>\n",
       "  </thead>\n",
       "  <tbody>\n",
       "    <tr>\n",
       "      <th>0</th>\n",
       "      <td>0</td>\n",
       "      <td>Wii Sports</td>\n",
       "      <td>Wii</td>\n",
       "      <td>2006</td>\n",
       "      <td>Sports</td>\n",
       "      <td>41.36</td>\n",
       "      <td>28.96</td>\n",
       "      <td>3.77</td>\n",
       "      <td>8.45</td>\n",
       "      <td>76.0</td>\n",
       "      <td>8.0</td>\n",
       "      <td>E</td>\n",
       "      <td>82.54</td>\n",
       "    </tr>\n",
       "    <tr>\n",
       "      <th>1</th>\n",
       "      <td>1</td>\n",
       "      <td>Super Mario Bros.</td>\n",
       "      <td>NES</td>\n",
       "      <td>1985</td>\n",
       "      <td>Platform</td>\n",
       "      <td>29.08</td>\n",
       "      <td>3.58</td>\n",
       "      <td>6.81</td>\n",
       "      <td>0.77</td>\n",
       "      <td>NaN</td>\n",
       "      <td>NaN</td>\n",
       "      <td>E</td>\n",
       "      <td>40.24</td>\n",
       "    </tr>\n",
       "    <tr>\n",
       "      <th>2</th>\n",
       "      <td>2</td>\n",
       "      <td>Mario Kart Wii</td>\n",
       "      <td>Wii</td>\n",
       "      <td>2008</td>\n",
       "      <td>Racing</td>\n",
       "      <td>15.68</td>\n",
       "      <td>12.76</td>\n",
       "      <td>3.79</td>\n",
       "      <td>3.29</td>\n",
       "      <td>82.0</td>\n",
       "      <td>8.3</td>\n",
       "      <td>E</td>\n",
       "      <td>35.52</td>\n",
       "    </tr>\n",
       "    <tr>\n",
       "      <th>3</th>\n",
       "      <td>3</td>\n",
       "      <td>Wii Sports Resort</td>\n",
       "      <td>Wii</td>\n",
       "      <td>2009</td>\n",
       "      <td>Sports</td>\n",
       "      <td>15.61</td>\n",
       "      <td>10.93</td>\n",
       "      <td>3.28</td>\n",
       "      <td>2.95</td>\n",
       "      <td>80.0</td>\n",
       "      <td>8.0</td>\n",
       "      <td>E</td>\n",
       "      <td>32.77</td>\n",
       "    </tr>\n",
       "    <tr>\n",
       "      <th>4</th>\n",
       "      <td>4</td>\n",
       "      <td>Pokemon Red/Pokemon Blue</td>\n",
       "      <td>GB</td>\n",
       "      <td>1996</td>\n",
       "      <td>Role-Playing</td>\n",
       "      <td>11.27</td>\n",
       "      <td>8.89</td>\n",
       "      <td>10.22</td>\n",
       "      <td>1.00</td>\n",
       "      <td>NaN</td>\n",
       "      <td>NaN</td>\n",
       "      <td>T</td>\n",
       "      <td>31.38</td>\n",
       "    </tr>\n",
       "  </tbody>\n",
       "</table>\n",
       "</div>"
      ],
      "text/plain": [
       "   index                      name platform  year_of_release         genre  \\\n",
       "0      0                Wii Sports      Wii             2006        Sports   \n",
       "1      1         Super Mario Bros.      NES             1985      Platform   \n",
       "2      2            Mario Kart Wii      Wii             2008        Racing   \n",
       "3      3         Wii Sports Resort      Wii             2009        Sports   \n",
       "4      4  Pokemon Red/Pokemon Blue       GB             1996  Role-Playing   \n",
       "\n",
       "   na_sales  eu_sales  jp_sales  other_sales  critic_score  user_score rating  \\\n",
       "0     41.36     28.96      3.77         8.45          76.0         8.0      E   \n",
       "1     29.08      3.58      6.81         0.77           NaN         NaN      E   \n",
       "2     15.68     12.76      3.79         3.29          82.0         8.3      E   \n",
       "3     15.61     10.93      3.28         2.95          80.0         8.0      E   \n",
       "4     11.27      8.89     10.22         1.00           NaN         NaN      T   \n",
       "\n",
       "   total_sales  \n",
       "0        82.54  \n",
       "1        40.24  \n",
       "2        35.52  \n",
       "3        32.77  \n",
       "4        31.38  "
      ]
     },
     "execution_count": 34,
     "metadata": {},
     "output_type": "execute_result"
    }
   ],
   "source": [
    "game_data.head()"
   ]
  },
  {
   "cell_type": "markdown",
   "id": "b5b3cc2a",
   "metadata": {},
   "source": [
    "### Conclusion\n",
    "\n",
    "In this data preprocessing section:\n",
    "- We have checked the missing values, some columns have a tiny bit of them, such as name and genre, this could be caused by human mistake during data entry. We dropped these rows as it would not affect the dataset too much.\n",
    "- Year of release have higher amount of missing values but still not so significant, we filled them in with the year that appears in the name of the game (e.g. FIFA 2015, LMA Manager 2007) and fill the rest with median of platform and genre. The missing values in year of release are totally random and could be an error during data retrieval.\n",
    "- We added total sales column which is the sum of the sales in each region.\n",
    "- There are games with three missing values in the following columns: user score, critic score and rating. There is no obvious patterns to these games. Some of the games are from older platforms that people don't really use anymore, other than that, these could be an error during data retrieval. \n",
    "- The scores have higher percentage of missing values and we tested if they have high correlation to one another, then try to fill them in with the median of each other's values, as well as the total sales and genre.\n",
    "- For rating, we used the genre as normally each genre are presented for different audience age group.\n",
    "- We changed the data types for user score and year of release.\n",
    "- We found that this dataset does not have any duplicates.\n",
    "\n",
    "Now the dataset is ready for further analysis."
   ]
  },
  {
   "cell_type": "markdown",
   "id": "0d7908e3",
   "metadata": {},
   "source": [
    "## Exploratory Data Analysis"
   ]
  },
  {
   "cell_type": "markdown",
   "id": "12a79b72",
   "metadata": {},
   "source": [
    "In this section, we will analyse the games' sales based on their year of release, platform, genre, reviews and ratings. "
   ]
  },
  {
   "cell_type": "markdown",
   "id": "6914effd",
   "metadata": {},
   "source": [
    "### Games Released Each Year"
   ]
  },
  {
   "cell_type": "code",
   "execution_count": 35,
   "id": "e44b1872",
   "metadata": {},
   "outputs": [
    {
     "data": {
      "image/png": "[encoded data removed]",
      "text/plain": [
       "<Figure size 720x360 with 1 Axes>"
      ]
     },
     "metadata": {
      "needs_background": "light"
     },
     "output_type": "display_data"
    }
   ],
   "source": [
    "game_data['year_of_release'].hist(bins = 10, figsize=(10,5))\n",
    "plt.title('Amount of Games Released Per Year')\n",
    "plt.xlabel('Year')\n",
    "plt.ylabel('Games');"
   ]
  },
  {
   "cell_type": "markdown",
   "id": "8f8b8d90",
   "metadata": {},
   "source": [
    "Based on the histogram, the amount of games released started to increase exponentially in the 1990s, it was a decade of marked innovation in video gaming, introduction of home consoles and Nintendo's Game Boy was released that got everyone into video games. We can also see that most games are released towards the end of 2000s until around 2012."
   ]
  },
  {
   "cell_type": "code",
   "execution_count": 36,
   "id": "ec00bca8",
   "metadata": {},
   "outputs": [
    {
     "data": {
      "image/png": "[encoded data removed]",
      "text/plain": [
       "<Figure size 720x360 with 1 Axes>"
      ]
     },
     "metadata": {
      "needs_background": "light"
     },
     "output_type": "display_data"
    }
   ],
   "source": [
    "game_data['year_of_release'].plot(kind='box', figsize=(10,5), grid=True)\n",
    "plt.xticks([1], [])\n",
    "plt.ylabel('Year');"
   ]
  },
  {
   "cell_type": "markdown",
   "id": "3cb69522",
   "metadata": {},
   "source": [
    "Looking at the boxplot, the interquartile range is between 2003-2010, with median around 2007. This might coincide with the boom of significant technological advancement with smartphones and social media. Ironically, those two things are also the things that may cause a decline in video games release afterwards, as video gaming became more of a niche product."
   ]
  },
  {
   "cell_type": "markdown",
   "id": "3c0755d2",
   "metadata": {},
   "source": [
    "### Total Sales By Platform"
   ]
  },
  {
   "cell_type": "code",
   "execution_count": 37,
   "id": "8b55ed68",
   "metadata": {},
   "outputs": [
    {
     "data": {
      "image/png": "[encoded data removed]",
      "text/plain": [
       "<Figure size 720x360 with 1 Axes>"
      ]
     },
     "metadata": {
      "needs_background": "light"
     },
     "output_type": "display_data"
    }
   ],
   "source": [
    "game_data.groupby('platform')['total_sales'].sum().sort_values(ascending=False).plot(kind='bar', figsize=(10,5))\n",
    "plt.title('Amount of Sales on Each Platform')\n",
    "plt.xlabel('Platform')\n",
    "plt.ylabel('Sales in USD million')\n",
    "plt.grid(axis='y')\n",
    "plt.xticks(rotation=45);"
   ]
  },
  {
   "cell_type": "markdown",
   "id": "3b56a3e5",
   "metadata": {},
   "source": [
    "In the bar chart, it's obvious that 6 platforms dominate the sales in significant manner: PS2, X360, PS3, Wii, DS, and PS. There are 7 platforms which sales are close to zero: SCD, NG, WS, TG16, 3DO, GG and PCFX. These platforms have pretty short lifespans and discontinued due to not selling well at the market, therefore it makes sense that the games released there are also minuscule. At this section of the analysis, we will focus on the highest selling platforms."
   ]
  },
  {
   "cell_type": "code",
   "execution_count": 38,
   "id": "10463c7c",
   "metadata": {},
   "outputs": [],
   "source": [
    "def plot_distribution(df, x, y, column ='', value='', func=np.sum):\n",
    "    if column != '' and value != '':\n",
    "        filter_df = df[df[column] == value]\n",
    "        plot_df = filter_df.pivot_table(index=x, values=y, aggfunc=func)\n",
    "        values_to_plot = plot_df[y].values\n",
    "    else:\n",
    "        plot_df = df.pivot_table(index=x, values=y, aggfunc=func)\n",
    "        values_to_plot = plot_df[y].values\n",
    "        \n",
    "    xlabel = x.replace('_', ' ').title()\n",
    "    ylabel = str(y.replace('_', ' ').title())\n",
    "    title = str(value) + \" - \" + ylabel + \" Each Year\"\n",
    "    \n",
    "    ax = plot_df.plot(kind='bar', figsize=(10,5), title=title, legend=False)\n",
    "    ax.set_ylabel(ylabel)\n",
    "    ax.set_xlabel(xlabel)\n",
    "    ax.set_title(title)\n",
    "    ax.grid(axis='y')"
   ]
  },
  {
   "cell_type": "code",
   "execution_count": 39,
   "id": "4917a133",
   "metadata": {
    "scrolled": true
   },
   "outputs": [
    {
     "data": {
      "image/png": "[encoded data removed]",
      "text/plain": [
       "<Figure size 720x360 with 1 Axes>"
      ]
     },
     "metadata": {
      "needs_background": "light"
     },
     "output_type": "display_data"
    },
    {
     "data": {
      "image/png": "[encoded data removed]",
      "text/plain": [
       "<Figure size 720x360 with 1 Axes>"
      ]
     },
     "metadata": {
      "needs_background": "light"
     },
     "output_type": "display_data"
    },
    {
     "data": {
      "image/png": "[encoded data removed]",
      "text/plain": [
       "<Figure size 720x360 with 1 Axes>"
      ]
     },
     "metadata": {
      "needs_background": "light"
     },
     "output_type": "display_data"
    },
    {
     "data": {
      "image/png": "[encoded data removed]",
      "text/plain": [
       "<Figure size 720x360 with 1 Axes>"
      ]
     },
     "metadata": {
      "needs_background": "light"
     },
     "output_type": "display_data"
    },
    {
     "data": {
      "image/png": "[encoded data removed]",
      "text/plain": [
       "<Figure size 720x360 with 1 Axes>"
      ]
     },
     "metadata": {
      "needs_background": "light"
     },
     "output_type": "display_data"
    },
    {
     "data": {
      "image/png": "[encoded data removed]",
      "text/plain": [
       "<Figure size 720x360 with 1 Axes>"
      ]
     },
     "metadata": {
      "needs_background": "light"
     },
     "output_type": "display_data"
    }
   ],
   "source": [
    "popular_platform = game_data[game_data['platform'].isin(['PS2','X360','PS3','Wii','DS','PS'])]\n",
    "\n",
    "for platform in popular_platform['platform'].unique():\n",
    "    plot_distribution(popular_platform, 'year_of_release', 'total_sales', 'platform', platform)"
   ]
  },
  {
   "cell_type": "markdown",
   "id": "4f1baa8a",
   "metadata": {},
   "source": [
    "- Playstation platforms always perform really well for a 5-6 years until it phases out and replaced by their newer counterpart.\n",
    "- Nintendo platforms, like DS and Wii, generally doing really well towards the end of the 2000s. There are a few years where they both co-exist and selling equally high.\n",
    "- XBOX was the hit console in 2010, but then it phased out fast and have really low sale by 2015.\n",
    "- A typical lifespan of each platform is about 10-11 year. This typical lifespan is slightly decreasing with time."
   ]
  },
  {
   "cell_type": "markdown",
   "id": "e823b0c9",
   "metadata": {},
   "source": [
    "### Slicing Dataset By Year"
   ]
  },
  {
   "cell_type": "markdown",
   "id": "4ce5f4a5",
   "metadata": {},
   "source": [
    "As the aim of this analysis is to build prognosis for 2017, it makes sense to analyse the platforms that are still being widely used at the time of data retrieval (2016). For that, we will need to check which platform still has sales in 2016."
   ]
  },
  {
   "cell_type": "code",
   "execution_count": 40,
   "id": "2346bef0",
   "metadata": {},
   "outputs": [
    {
     "data": {
      "text/plain": [
       "array(['PS4', '3DS', 'XOne', 'WiiU'], dtype=object)"
      ]
     },
     "execution_count": 40,
     "metadata": {},
     "output_type": "execute_result"
    }
   ],
   "source": [
    "new_sales = game_data.query('(year_of_release == 2016) & (total_sales > 1)')\n",
    "new_sales['platform'].unique()"
   ]
  },
  {
   "cell_type": "markdown",
   "id": "a36da458",
   "metadata": {},
   "source": [
    "We found that PS4, 3DS, XOne, WiiU makes more than USD 1 million of sales in 2016. We can inspect which year these platforms are released and decide from which year the data is still relevant."
   ]
  },
  {
   "cell_type": "code",
   "execution_count": 41,
   "id": "7fd03ae8",
   "metadata": {},
   "outputs": [],
   "source": [
    "new_platform = game_data[game_data['platform'].isin(new_sales['platform'])]"
   ]
  },
  {
   "cell_type": "code",
   "execution_count": 42,
   "id": "e7a30d6d",
   "metadata": {
    "scrolled": true
   },
   "outputs": [
    {
     "data": {
      "image/png": "[encoded data removed]",
      "text/plain": [
       "<Figure size 720x360 with 1 Axes>"
      ]
     },
     "metadata": {
      "needs_background": "light"
     },
     "output_type": "display_data"
    },
    {
     "data": {
      "image/png": "[encoded data removed]",
      "text/plain": [
       "<Figure size 720x360 with 1 Axes>"
      ]
     },
     "metadata": {
      "needs_background": "light"
     },
     "output_type": "display_data"
    },
    {
     "data": {
      "image/png": "[encoded data removed]",
      "text/plain": [
       "<Figure size 720x360 with 1 Axes>"
      ]
     },
     "metadata": {
      "needs_background": "light"
     },
     "output_type": "display_data"
    },
    {
     "data": {
      "image/png": "[encoded data removed]",
      "text/plain": [
       "<Figure size 720x360 with 1 Axes>"
      ]
     },
     "metadata": {
      "needs_background": "light"
     },
     "output_type": "display_data"
    }
   ],
   "source": [
    "for platform in new_platform['platform'].unique():\n",
    "    plot_distribution(new_platform, 'year_of_release', 'total_sales', 'platform', platform)"
   ]
  },
  {
   "cell_type": "markdown",
   "id": "e89939cb",
   "metadata": {},
   "source": [
    "These platforms are all released between 2011-2013, so let's take the median and we will slice the dataset and only analyse games released from 2012 onwards."
   ]
  },
  {
   "cell_type": "code",
   "execution_count": 43,
   "id": "44a02149",
   "metadata": {},
   "outputs": [],
   "source": [
    "data_filtered = game_data.query('year_of_release >= 2012')"
   ]
  },
  {
   "cell_type": "code",
   "execution_count": 44,
   "id": "0334a2cb",
   "metadata": {
    "scrolled": false
   },
   "outputs": [
    {
     "data": {
      "image/png": "[encoded data removed]",
      "text/plain": [
       "<Figure size 720x360 with 1 Axes>"
      ]
     },
     "metadata": {
      "needs_background": "light"
     },
     "output_type": "display_data"
    }
   ],
   "source": [
    "data_filtered.groupby('platform')['total_sales'].sum().sort_values(ascending=False).plot(kind='bar', figsize=(10,5))\n",
    "plt.title('Amount of Sales on Each Platform after 2012')\n",
    "plt.xlabel('Platform')\n",
    "plt.ylabel('Sales in USD million')\n",
    "plt.grid(axis='y');"
   ]
  },
  {
   "cell_type": "markdown",
   "id": "ef751863",
   "metadata": {},
   "source": [
    "We can see that after filtering the dataset, PS4 is leading the sales at more than 300 million, it's amazing that this platform achieved that in just 4 years. PS3 and X360 are following behind it as they are released in 2007 and have begun to phase out and replaced by the newer platforms."
   ]
  },
  {
   "cell_type": "markdown",
   "id": "77ab84e8",
   "metadata": {},
   "source": [
    "### Global Sales by Platform"
   ]
  },
  {
   "cell_type": "code",
   "execution_count": 45,
   "id": "4e8aa31d",
   "metadata": {},
   "outputs": [
    {
     "data": {
      "text/html": [
       "<div>\n",
       "<style scoped>\n",
       "    .dataframe tbody tr th:only-of-type {\n",
       "        vertical-align: middle;\n",
       "    }\n",
       "\n",
       "    .dataframe tbody tr th {\n",
       "        vertical-align: top;\n",
       "    }\n",
       "\n",
       "    .dataframe thead th {\n",
       "        text-align: right;\n",
       "    }\n",
       "</style>\n",
       "<table border=\"1\" class=\"dataframe\">\n",
       "  <thead>\n",
       "    <tr style=\"text-align: right;\">\n",
       "      <th></th>\n",
       "      <th>platform</th>\n",
       "      <th>total_games</th>\n",
       "      <th>avg_sales</th>\n",
       "    </tr>\n",
       "  </thead>\n",
       "  <tbody>\n",
       "    <tr>\n",
       "      <th>9</th>\n",
       "      <td>X360</td>\n",
       "      <td>292</td>\n",
       "      <td>0.810068</td>\n",
       "    </tr>\n",
       "    <tr>\n",
       "      <th>4</th>\n",
       "      <td>PS4</td>\n",
       "      <td>392</td>\n",
       "      <td>0.801378</td>\n",
       "    </tr>\n",
       "    <tr>\n",
       "      <th>7</th>\n",
       "      <td>Wii</td>\n",
       "      <td>54</td>\n",
       "      <td>0.655000</td>\n",
       "    </tr>\n",
       "    <tr>\n",
       "      <th>10</th>\n",
       "      <td>XOne</td>\n",
       "      <td>247</td>\n",
       "      <td>0.645020</td>\n",
       "    </tr>\n",
       "    <tr>\n",
       "      <th>3</th>\n",
       "      <td>PS3</td>\n",
       "      <td>493</td>\n",
       "      <td>0.585781</td>\n",
       "    </tr>\n",
       "    <tr>\n",
       "      <th>8</th>\n",
       "      <td>WiiU</td>\n",
       "      <td>147</td>\n",
       "      <td>0.559116</td>\n",
       "    </tr>\n",
       "    <tr>\n",
       "      <th>0</th>\n",
       "      <td>3DS</td>\n",
       "      <td>402</td>\n",
       "      <td>0.486667</td>\n",
       "    </tr>\n",
       "    <tr>\n",
       "      <th>1</th>\n",
       "      <td>DS</td>\n",
       "      <td>31</td>\n",
       "      <td>0.404839</td>\n",
       "    </tr>\n",
       "    <tr>\n",
       "      <th>2</th>\n",
       "      <td>PC</td>\n",
       "      <td>251</td>\n",
       "      <td>0.250996</td>\n",
       "    </tr>\n",
       "    <tr>\n",
       "      <th>6</th>\n",
       "      <td>PSV</td>\n",
       "      <td>412</td>\n",
       "      <td>0.120000</td>\n",
       "    </tr>\n",
       "    <tr>\n",
       "      <th>5</th>\n",
       "      <td>PSP</td>\n",
       "      <td>173</td>\n",
       "      <td>0.064682</td>\n",
       "    </tr>\n",
       "  </tbody>\n",
       "</table>\n",
       "</div>"
      ],
      "text/plain": [
       "   platform  total_games  avg_sales\n",
       "9      X360          292   0.810068\n",
       "4       PS4          392   0.801378\n",
       "7       Wii           54   0.655000\n",
       "10     XOne          247   0.645020\n",
       "3       PS3          493   0.585781\n",
       "8      WiiU          147   0.559116\n",
       "0       3DS          402   0.486667\n",
       "1        DS           31   0.404839\n",
       "2        PC          251   0.250996\n",
       "6       PSV          412   0.120000\n",
       "5       PSP          173   0.064682"
      ]
     },
     "execution_count": 45,
     "metadata": {},
     "output_type": "execute_result"
    }
   ],
   "source": [
    "platform_average_sales = data_filtered.pivot_table(index='platform',\n",
    "                                                   values='total_sales',\n",
    "                                                   aggfunc=['count', 'mean']).reset_index()\n",
    "\n",
    "platform_average_sales.columns = ['platform', 'total_games', 'avg_sales']\n",
    "\n",
    "platform_average_sales.sort_values('avg_sales', ascending=False)"
   ]
  },
  {
   "cell_type": "markdown",
   "id": "824a41bf",
   "metadata": {},
   "source": [
    "The leading sales is coming from PS4 with 392 games and X360 with 292 games. Wii is still relatively new at the time of data retrieval with only 54 games but already making a huge sales."
   ]
  },
  {
   "cell_type": "code",
   "execution_count": 46,
   "id": "4534012d",
   "metadata": {},
   "outputs": [
    {
     "data": {
      "text/html": [
       "<div>\n",
       "<style scoped>\n",
       "    .dataframe tbody tr th:only-of-type {\n",
       "        vertical-align: middle;\n",
       "    }\n",
       "\n",
       "    .dataframe tbody tr th {\n",
       "        vertical-align: top;\n",
       "    }\n",
       "\n",
       "    .dataframe thead th {\n",
       "        text-align: right;\n",
       "    }\n",
       "</style>\n",
       "<table border=\"1\" class=\"dataframe\">\n",
       "  <thead>\n",
       "    <tr style=\"text-align: right;\">\n",
       "      <th></th>\n",
       "      <th>count</th>\n",
       "      <th>mean</th>\n",
       "      <th>std</th>\n",
       "      <th>min</th>\n",
       "      <th>25%</th>\n",
       "      <th>50%</th>\n",
       "      <th>75%</th>\n",
       "      <th>max</th>\n",
       "    </tr>\n",
       "    <tr>\n",
       "      <th>platform</th>\n",
       "      <th></th>\n",
       "      <th></th>\n",
       "      <th></th>\n",
       "      <th></th>\n",
       "      <th></th>\n",
       "      <th></th>\n",
       "      <th></th>\n",
       "      <th></th>\n",
       "    </tr>\n",
       "  </thead>\n",
       "  <tbody>\n",
       "    <tr>\n",
       "      <th>3DS</th>\n",
       "      <td>402.0</td>\n",
       "      <td>0.486667</td>\n",
       "      <td>1.377399</td>\n",
       "      <td>0.01</td>\n",
       "      <td>0.0400</td>\n",
       "      <td>0.11</td>\n",
       "      <td>0.3100</td>\n",
       "      <td>14.60</td>\n",
       "    </tr>\n",
       "    <tr>\n",
       "      <th>DS</th>\n",
       "      <td>31.0</td>\n",
       "      <td>0.404839</td>\n",
       "      <td>1.439245</td>\n",
       "      <td>0.01</td>\n",
       "      <td>0.0200</td>\n",
       "      <td>0.05</td>\n",
       "      <td>0.1850</td>\n",
       "      <td>8.06</td>\n",
       "    </tr>\n",
       "    <tr>\n",
       "      <th>PC</th>\n",
       "      <td>251.0</td>\n",
       "      <td>0.250996</td>\n",
       "      <td>0.493690</td>\n",
       "      <td>0.01</td>\n",
       "      <td>0.0300</td>\n",
       "      <td>0.08</td>\n",
       "      <td>0.2400</td>\n",
       "      <td>5.14</td>\n",
       "    </tr>\n",
       "    <tr>\n",
       "      <th>PS3</th>\n",
       "      <td>493.0</td>\n",
       "      <td>0.585781</td>\n",
       "      <td>1.462855</td>\n",
       "      <td>0.01</td>\n",
       "      <td>0.0500</td>\n",
       "      <td>0.20</td>\n",
       "      <td>0.6100</td>\n",
       "      <td>21.05</td>\n",
       "    </tr>\n",
       "    <tr>\n",
       "      <th>PS4</th>\n",
       "      <td>392.0</td>\n",
       "      <td>0.801378</td>\n",
       "      <td>1.609456</td>\n",
       "      <td>0.01</td>\n",
       "      <td>0.0600</td>\n",
       "      <td>0.20</td>\n",
       "      <td>0.7300</td>\n",
       "      <td>14.63</td>\n",
       "    </tr>\n",
       "    <tr>\n",
       "      <th>PSP</th>\n",
       "      <td>173.0</td>\n",
       "      <td>0.064682</td>\n",
       "      <td>0.071296</td>\n",
       "      <td>0.01</td>\n",
       "      <td>0.0200</td>\n",
       "      <td>0.03</td>\n",
       "      <td>0.0900</td>\n",
       "      <td>0.36</td>\n",
       "    </tr>\n",
       "    <tr>\n",
       "      <th>PSV</th>\n",
       "      <td>412.0</td>\n",
       "      <td>0.120000</td>\n",
       "      <td>0.202882</td>\n",
       "      <td>0.01</td>\n",
       "      <td>0.0200</td>\n",
       "      <td>0.05</td>\n",
       "      <td>0.1200</td>\n",
       "      <td>1.96</td>\n",
       "    </tr>\n",
       "    <tr>\n",
       "      <th>Wii</th>\n",
       "      <td>54.0</td>\n",
       "      <td>0.655000</td>\n",
       "      <td>1.165447</td>\n",
       "      <td>0.01</td>\n",
       "      <td>0.0625</td>\n",
       "      <td>0.18</td>\n",
       "      <td>0.6875</td>\n",
       "      <td>6.76</td>\n",
       "    </tr>\n",
       "    <tr>\n",
       "      <th>WiiU</th>\n",
       "      <td>147.0</td>\n",
       "      <td>0.559116</td>\n",
       "      <td>1.058836</td>\n",
       "      <td>0.01</td>\n",
       "      <td>0.0800</td>\n",
       "      <td>0.22</td>\n",
       "      <td>0.5250</td>\n",
       "      <td>7.09</td>\n",
       "    </tr>\n",
       "    <tr>\n",
       "      <th>X360</th>\n",
       "      <td>292.0</td>\n",
       "      <td>0.810068</td>\n",
       "      <td>1.712069</td>\n",
       "      <td>0.01</td>\n",
       "      <td>0.1000</td>\n",
       "      <td>0.31</td>\n",
       "      <td>0.8700</td>\n",
       "      <td>16.27</td>\n",
       "    </tr>\n",
       "    <tr>\n",
       "      <th>XOne</th>\n",
       "      <td>247.0</td>\n",
       "      <td>0.645020</td>\n",
       "      <td>1.036139</td>\n",
       "      <td>0.01</td>\n",
       "      <td>0.0600</td>\n",
       "      <td>0.22</td>\n",
       "      <td>0.6850</td>\n",
       "      <td>7.39</td>\n",
       "    </tr>\n",
       "  </tbody>\n",
       "</table>\n",
       "</div>"
      ],
      "text/plain": [
       "          count      mean       std   min     25%   50%     75%    max\n",
       "platform                                                              \n",
       "3DS       402.0  0.486667  1.377399  0.01  0.0400  0.11  0.3100  14.60\n",
       "DS         31.0  0.404839  1.439245  0.01  0.0200  0.05  0.1850   8.06\n",
       "PC        251.0  0.250996  0.493690  0.01  0.0300  0.08  0.2400   5.14\n",
       "PS3       493.0  0.585781  1.462855  0.01  0.0500  0.20  0.6100  21.05\n",
       "PS4       392.0  0.801378  1.609456  0.01  0.0600  0.20  0.7300  14.63\n",
       "PSP       173.0  0.064682  0.071296  0.01  0.0200  0.03  0.0900   0.36\n",
       "PSV       412.0  0.120000  0.202882  0.01  0.0200  0.05  0.1200   1.96\n",
       "Wii        54.0  0.655000  1.165447  0.01  0.0625  0.18  0.6875   6.76\n",
       "WiiU      147.0  0.559116  1.058836  0.01  0.0800  0.22  0.5250   7.09\n",
       "X360      292.0  0.810068  1.712069  0.01  0.1000  0.31  0.8700  16.27\n",
       "XOne      247.0  0.645020  1.036139  0.01  0.0600  0.22  0.6850   7.39"
      ]
     },
     "execution_count": 46,
     "metadata": {},
     "output_type": "execute_result"
    }
   ],
   "source": [
    "data_filtered.groupby('platform')['total_sales'].describe()"
   ]
  },
  {
   "cell_type": "markdown",
   "id": "4421fa45",
   "metadata": {},
   "source": [
    "We have a lot of platforms to work with, but for ease of analysis, we will focus on the platforms making more than USD 100 million after 2012."
   ]
  },
  {
   "cell_type": "code",
   "execution_count": 47,
   "id": "0c73872c",
   "metadata": {},
   "outputs": [
    {
     "data": {
      "text/html": [
       "<div>\n",
       "<style scoped>\n",
       "    .dataframe tbody tr th:only-of-type {\n",
       "        vertical-align: middle;\n",
       "    }\n",
       "\n",
       "    .dataframe tbody tr th {\n",
       "        vertical-align: top;\n",
       "    }\n",
       "\n",
       "    .dataframe thead th {\n",
       "        text-align: right;\n",
       "    }\n",
       "</style>\n",
       "<table border=\"1\" class=\"dataframe\">\n",
       "  <thead>\n",
       "    <tr style=\"text-align: right;\">\n",
       "      <th></th>\n",
       "      <th>platform</th>\n",
       "      <th>total_sales</th>\n",
       "    </tr>\n",
       "  </thead>\n",
       "  <tbody>\n",
       "    <tr>\n",
       "      <th>0</th>\n",
       "      <td>3DS</td>\n",
       "      <td>195.64</td>\n",
       "    </tr>\n",
       "    <tr>\n",
       "      <th>3</th>\n",
       "      <td>PS3</td>\n",
       "      <td>288.79</td>\n",
       "    </tr>\n",
       "    <tr>\n",
       "      <th>4</th>\n",
       "      <td>PS4</td>\n",
       "      <td>314.14</td>\n",
       "    </tr>\n",
       "    <tr>\n",
       "      <th>9</th>\n",
       "      <td>X360</td>\n",
       "      <td>236.54</td>\n",
       "    </tr>\n",
       "    <tr>\n",
       "      <th>10</th>\n",
       "      <td>XOne</td>\n",
       "      <td>159.32</td>\n",
       "    </tr>\n",
       "  </tbody>\n",
       "</table>\n",
       "</div>"
      ],
      "text/plain": [
       "   platform  total_sales\n",
       "0       3DS       195.64\n",
       "3       PS3       288.79\n",
       "4       PS4       314.14\n",
       "9      X360       236.54\n",
       "10     XOne       159.32"
      ]
     },
     "execution_count": 47,
     "metadata": {},
     "output_type": "execute_result"
    }
   ],
   "source": [
    "sales = data_filtered.groupby('platform').agg({'total_sales':'sum'}).reset_index()\n",
    "sales[sales['total_sales'] >= 100]"
   ]
  },
  {
   "cell_type": "code",
   "execution_count": 48,
   "id": "9990b9e0",
   "metadata": {},
   "outputs": [],
   "source": [
    "platform_include = ['PS4', 'X360', 'PS3', 'XOne', '3DS']\n",
    "top_platforms = data_filtered.query('platform == @platform_include')"
   ]
  },
  {
   "cell_type": "code",
   "execution_count": 49,
   "id": "787f19c1",
   "metadata": {},
   "outputs": [
    {
     "data": {
      "image/png": "[encoded data removed]",
      "text/plain": [
       "<Figure size 576x576 with 1 Axes>"
      ]
     },
     "metadata": {
      "needs_background": "light"
     },
     "output_type": "display_data"
    }
   ],
   "source": [
    "top_platforms.boxplot('total_sales', by='platform', figsize=(8,8), grid=True)\n",
    "plt.title('Boxplot of Total Sales of Each Platform')\n",
    "plt.suptitle('')\n",
    "plt.ylabel('Total Sales');"
   ]
  },
  {
   "cell_type": "markdown",
   "id": "3ba4cd1e",
   "metadata": {},
   "source": [
    "The boxplots look similar across all 5 platforms, there are no significant differences in sales, although PS3 has some outliers up to more than 20 million USD. The distributions are positively skewed, which is confirmed by the description table above, where mean values are much higher than median."
   ]
  },
  {
   "cell_type": "markdown",
   "id": "ea77136b",
   "metadata": {},
   "source": [
    "### Reviews Impact on Sales"
   ]
  },
  {
   "cell_type": "markdown",
   "id": "7bea5824",
   "metadata": {},
   "source": [
    "On this section, we will look at whether or not reviews from critic or user impact the game's sales. PS4 and X360 would be good platform candidates because they have really high average sales compared to other platforms, but PS4 has more games than X360. Therefore we will use PS4 as an example for this analysis. "
   ]
  },
  {
   "cell_type": "code",
   "execution_count": 50,
   "id": "347d8c66",
   "metadata": {},
   "outputs": [
    {
     "data": {
      "text/plain": [
       "index              0.000000\n",
       "name               0.000000\n",
       "platform           0.000000\n",
       "year_of_release    0.000000\n",
       "genre              0.000000\n",
       "na_sales           0.000000\n",
       "eu_sales           0.000000\n",
       "jp_sales           0.000000\n",
       "other_sales        0.000000\n",
       "critic_score       2.806122\n",
       "user_score         2.806122\n",
       "rating             0.000000\n",
       "total_sales        0.000000\n",
       "dtype: float64"
      ]
     },
     "execution_count": 50,
     "metadata": {},
     "output_type": "execute_result"
    }
   ],
   "source": [
    "# slice the dataset for only X360\n",
    "ps4 = data_filtered.query('platform == \"PS4\"')\n",
    "\n",
    "# check whether the missing values is high\n",
    "ps4.isnull().sum() / len(ps4) * 100"
   ]
  },
  {
   "cell_type": "code",
   "execution_count": 51,
   "id": "6173e37f",
   "metadata": {},
   "outputs": [
    {
     "data": {
      "image/png": "[encoded data removed]",
      "text/plain": [
       "<Figure size 720x360 with 1 Axes>"
      ]
     },
     "metadata": {
      "needs_background": "light"
     },
     "output_type": "display_data"
    }
   ],
   "source": [
    "ps4.plot(kind='scatter', y='total_sales', x='user_score', alpha=0.3, figsize=(10, 5))\n",
    "plt.title('PS4 - Correlation of Sales and User Score')\n",
    "plt.xlabel('User Score')\n",
    "plt.ylabel('Total Sales');"
   ]
  },
  {
   "cell_type": "code",
   "execution_count": 52,
   "id": "27ee99fa",
   "metadata": {},
   "outputs": [
    {
     "data": {
      "image/png": "[encoded data removed]",
      "text/plain": [
       "<Figure size 720x360 with 1 Axes>"
      ]
     },
     "metadata": {
      "needs_background": "light"
     },
     "output_type": "display_data"
    }
   ],
   "source": [
    "ps4.plot(kind='scatter', y='total_sales', x='critic_score', alpha=0.3, figsize=(10, 5))\n",
    "plt.title('PS4 - Correlation of Sales and Critic Score')\n",
    "plt.xlabel('Critic Score')\n",
    "plt.ylabel('Total Sales');"
   ]
  },
  {
   "cell_type": "code",
   "execution_count": 53,
   "id": "f12f3c7b",
   "metadata": {},
   "outputs": [
    {
     "name": "stdout",
     "output_type": "stream",
     "text": [
      "Pearson correlation coefficient between sales and user score is -4.83%\n",
      "Pearson correlation coefficient between sales and critic score is 44.58%\n"
     ]
    }
   ],
   "source": [
    "print('Pearson correlation coefficient between sales and user score is {:.2%}'.format(ps4['total_sales'].corr(ps4['user_score'])))\n",
    "print('Pearson correlation coefficient between sales and critic score is {:.2%}'.format(ps4['total_sales'].corr(ps4['critic_score'])))"
   ]
  },
  {
   "cell_type": "markdown",
   "id": "197123b5",
   "metadata": {},
   "source": [
    "Based on the scatterplots and Pearson coefficient results above, we can conclude that for PS4 games:\n",
    "- the user score is slightly inversely correlated to the games' sales.\n",
    "- the critic score impact on the games' sales is quite high."
   ]
  },
  {
   "cell_type": "markdown",
   "id": "4dc02dc8",
   "metadata": {},
   "source": [
    "### Games Sold in Different Platforms"
   ]
  },
  {
   "cell_type": "markdown",
   "id": "c0e734a1",
   "metadata": {},
   "source": [
    "Now we can take the leading games from PS4 and see how they perform in different platforms.  "
   ]
  },
  {
   "cell_type": "code",
   "execution_count": 54,
   "id": "b584f654",
   "metadata": {},
   "outputs": [
    {
     "data": {
      "text/plain": [
       "name\n",
       "Call of Duty: Black Ops 3         14.63\n",
       "Grand Theft Auto V                12.62\n",
       "FIFA 16                            8.58\n",
       "Star Wars Battlefront (2015)       7.98\n",
       "Call of Duty: Advanced Warfare     7.66\n",
       "Name: total_sales, dtype: float64"
      ]
     },
     "execution_count": 54,
     "metadata": {},
     "output_type": "execute_result"
    }
   ],
   "source": [
    "ps4.groupby('name')['total_sales'].sum().sort_values(ascending=False).head()"
   ]
  },
  {
   "cell_type": "markdown",
   "id": "9e9c6d2e",
   "metadata": {},
   "source": [
    "Call of Duty: Black Ops 3 is the best selling game in PS4, but it's quite new (it was released in 2015). Let's see if this game performs well in another high-selling platforms, like PS3 and X360."
   ]
  },
  {
   "cell_type": "code",
   "execution_count": 55,
   "id": "f67634ed",
   "metadata": {},
   "outputs": [
    {
     "data": {
      "text/plain": [
       "name\n",
       "Grand Theft Auto V            21.05\n",
       "Call of Duty: Black Ops II    13.79\n",
       "Call of Duty: Ghosts           9.36\n",
       "FIFA Soccer 13                 8.17\n",
       "FIFA 14                        6.46\n",
       "Name: total_sales, dtype: float64"
      ]
     },
     "execution_count": 55,
     "metadata": {},
     "output_type": "execute_result"
    }
   ],
   "source": [
    "(data_filtered\n",
    "     .query('platform == \"PS3\"')\n",
    "     .groupby('name')['total_sales']\n",
    "     .sum()\n",
    "     .sort_values(ascending=False).head()\n",
    ")"
   ]
  },
  {
   "cell_type": "code",
   "execution_count": 56,
   "id": "3b8c8f2c",
   "metadata": {},
   "outputs": [
    {
     "data": {
      "text/plain": [
       "name\n",
       "Grand Theft Auto V            16.27\n",
       "Call of Duty: Black Ops II    13.68\n",
       "Call of Duty: Ghosts          10.24\n",
       "Halo 4                         9.71\n",
       "Minecraft                      9.18\n",
       "Name: total_sales, dtype: float64"
      ]
     },
     "execution_count": 56,
     "metadata": {},
     "output_type": "execute_result"
    }
   ],
   "source": [
    "(data_filtered\n",
    "     .query('platform == \"X360\"')\n",
    "     .groupby('name')['total_sales']\n",
    "     .sum()\n",
    "     .sort_values(ascending=False).head()\n",
    ")"
   ]
  },
  {
   "cell_type": "markdown",
   "id": "5bcc354f",
   "metadata": {},
   "source": [
    "Call of Duty: Black Ops 3 doesn't appear in the older platforms, so we use the second highest selling game in PS4, Grand Theft Auto V."
   ]
  },
  {
   "cell_type": "code",
   "execution_count": 57,
   "id": "68f635e9",
   "metadata": {
    "scrolled": false
   },
   "outputs": [
    {
     "data": {
      "image/png": "[encoded data removed]",
      "text/plain": [
       "<Figure size 720x360 with 1 Axes>"
      ]
     },
     "metadata": {
      "needs_background": "light"
     },
     "output_type": "display_data"
    }
   ],
   "source": [
    "gta = data_filtered.query('name == \"Grand Theft Auto V\"').groupby('platform')['total_sales'].sum().sort_values(ascending=False)\n",
    "\n",
    "gta.plot(kind='bar', figsize=(10, 5))\n",
    "plt.title('Grand Theft Auto V - Sales in Each Platform')\n",
    "plt.xlabel('Platform')\n",
    "plt.ylabel('Total Sales');"
   ]
  },
  {
   "cell_type": "markdown",
   "id": "13f31f05",
   "metadata": {},
   "source": [
    "GTA V made high sales in PS3 and X360, above 15 million USD. But then again, these platforms are older than PS4 and XOne. It looks like PS4 and XOne are catching up with the older platforms in terms of sales of this game. Therefore it makes sense to conclude that there is not much difference in sales across the platforms, only the age of the platform itself that seems to affect a certain game's sale."
   ]
  },
  {
   "cell_type": "markdown",
   "id": "013b7bb3",
   "metadata": {},
   "source": [
    "### Distribution of Games' Genre"
   ]
  },
  {
   "cell_type": "code",
   "execution_count": 58,
   "id": "95ce797b",
   "metadata": {},
   "outputs": [
    {
     "data": {
      "image/png": "[encoded data removed]",
      "text/plain": [
       "<Figure size 720x360 with 1 Axes>"
      ]
     },
     "metadata": {
      "needs_background": "light"
     },
     "output_type": "display_data"
    }
   ],
   "source": [
    "(data_filtered\n",
    "     .groupby('genre')['genre']\n",
    "     .count()\n",
    "     .sort_values(ascending=False)\n",
    "     .plot(kind='bar', figsize=(10, 5))\n",
    ")\n",
    "\n",
    "plt.title('Distribution of Games by Genre')\n",
    "plt.xlabel('Genre')\n",
    "plt.xticks(rotation=45)\n",
    "plt.ylabel('Amount of Games')\n",
    "plt.grid(axis='y');"
   ]
  },
  {
   "cell_type": "markdown",
   "id": "73eb5eb4",
   "metadata": {},
   "source": [
    "Action games is the most popular genre by significant difference. We can inspect now whether they are also the most profitable."
   ]
  },
  {
   "cell_type": "code",
   "execution_count": 59,
   "id": "6e637918",
   "metadata": {},
   "outputs": [
    {
     "data": {
      "image/png": "[encoded data removed]",
      "text/plain": [
       "<Figure size 720x360 with 1 Axes>"
      ]
     },
     "metadata": {
      "needs_background": "light"
     },
     "output_type": "display_data"
    }
   ],
   "source": [
    "(data_filtered\n",
    "     .groupby('genre')['total_sales']\n",
    "     .sum()\n",
    "     .sort_values(ascending=False)\n",
    "     .plot(kind='bar', figsize=(10, 5))\n",
    ")\n",
    "\n",
    "plt.title('Distribution of Sales by Genre')\n",
    "plt.xlabel('Genre')\n",
    "plt.xticks(rotation=45)\n",
    "plt.ylabel('Total Sales in USD Million')\n",
    "plt.grid(axis='y');"
   ]
  },
  {
   "cell_type": "markdown",
   "id": "e09cc879",
   "metadata": {},
   "source": [
    "As predicted, action is also the most profitable genre, followed by shooter -  with slight difference, despite not being very popular, role-playing and sports. It seems like most people prefer the \"active\" games like action and shooting, rather than \"calm\" games like strategy or puzzle. From psychological perspective, it may be that people use aggressive video games as healthy coping mechanism rather than actually committing violence in real life."
   ]
  },
  {
   "cell_type": "markdown",
   "id": "262bb830",
   "metadata": {},
   "source": [
    "## Users Profile for Each Region"
   ]
  },
  {
   "cell_type": "markdown",
   "id": "a3c1c941",
   "metadata": {},
   "source": [
    "### Platforms"
   ]
  },
  {
   "cell_type": "code",
   "execution_count": 60,
   "id": "66bdc833",
   "metadata": {},
   "outputs": [
    {
     "data": {
      "image/png": "[encoded data removed]",
      "text/plain": [
       "<Figure size 504x504 with 1 Axes>"
      ]
     },
     "metadata": {},
     "output_type": "display_data"
    }
   ],
   "source": [
    "(data_filtered\n",
    "           .groupby('platform')['na_sales']\n",
    "           .sum()\n",
    "           .sort_values(ascending=False)\n",
    "           .head()\n",
    "           .plot(kind='pie', figsize=(7, 7), autopct='%1.1f%%', explode = (0.1, 0, 0, 0, 0))\n",
    ")\n",
    "\n",
    "plt.axis('equal')\n",
    "plt.title(\"Top 5 Platforms in North America\")\n",
    "plt.ylabel('platform');"
   ]
  },
  {
   "cell_type": "markdown",
   "id": "b320fcab",
   "metadata": {},
   "source": [
    "Users in North America mostly use X360, although not very significant difference. Their preferences are followed by PS4, PS3, XOne and 3DS. So the dominant consoles are developed by Sony and Microsoft."
   ]
  },
  {
   "cell_type": "code",
   "execution_count": 61,
   "id": "afd1c691",
   "metadata": {},
   "outputs": [
    {
     "data": {
      "image/png": "[encoded data removed]",
      "text/plain": [
       "<Figure size 504x504 with 1 Axes>"
      ]
     },
     "metadata": {},
     "output_type": "display_data"
    }
   ],
   "source": [
    "(data_filtered\n",
    "           .groupby('platform')['eu_sales']\n",
    "           .sum()\n",
    "           .sort_values(ascending=False)\n",
    "           .head()\n",
    "           .plot(kind='pie', figsize=(7, 7), autopct='%1.1f%%', explode = (0.1, 0, 0, 0, 0))\n",
    ")\n",
    "\n",
    "plt.axis('equal')\n",
    "plt.title(\"Top 5 Platforms in Europe\")\n",
    "plt.ylabel('platform');"
   ]
  },
  {
   "cell_type": "markdown",
   "id": "e4fc661e",
   "metadata": {},
   "source": [
    "More than a third of users in Europe mostly use PS4. Their preferences are similar to those in North America, but in different orders (followed by PS3, X360, XOne and 3DS). Again the dominant consoles are developed by Sony and Microsoft."
   ]
  },
  {
   "cell_type": "code",
   "execution_count": 62,
   "id": "81cdad2f",
   "metadata": {},
   "outputs": [
    {
     "data": {
      "image/png": "[encoded data removed]",
      "text/plain": [
       "<Figure size 504x504 with 1 Axes>"
      ]
     },
     "metadata": {},
     "output_type": "display_data"
    }
   ],
   "source": [
    "(data_filtered\n",
    "           .groupby('platform')['jp_sales']\n",
    "           .sum()\n",
    "           .sort_values(ascending=False)\n",
    "           .head()\n",
    "           .plot(kind='pie', figsize=(7, 7), autopct='%1.1f%%', explode = (0.1, 0, 0, 0, 0))\n",
    ")\n",
    "\n",
    "plt.axis('equal')\n",
    "plt.title(\"Top 5 Platforms in Japan\")\n",
    "plt.ylabel('platform');"
   ]
  },
  {
   "cell_type": "markdown",
   "id": "ee0ed5f6",
   "metadata": {},
   "source": [
    "Half of total users in Japan use Nintendo 3DS. Their preferences are followed by PS3, PSV, PS4 and WiiU. The dominant consoles are developed by Nintendo and Sony, both Japanese company."
   ]
  },
  {
   "cell_type": "markdown",
   "id": "344a15ea",
   "metadata": {},
   "source": [
    "Each region has their own preferences on platforms. Users in North America love their X360, while users in Europe prefer their PS4, and in Japan, 3DS significantly dominate the market. However, it's interesting to see that North America and Europe have very similar platform preferences, just in different orders. While Japan has very different preferences to those two regions."
   ]
  },
  {
   "cell_type": "markdown",
   "id": "4d19c46f",
   "metadata": {},
   "source": [
    "### Genre"
   ]
  },
  {
   "cell_type": "code",
   "execution_count": 63,
   "id": "eb573b82",
   "metadata": {},
   "outputs": [
    {
     "data": {
      "image/png": "[encoded data removed]",
      "text/plain": [
       "<Figure size 864x432 with 1 Axes>"
      ]
     },
     "metadata": {
      "needs_background": "light"
     },
     "output_type": "display_data"
    }
   ],
   "source": [
    "labels = data_filtered['genre'].unique()\n",
    "na_genre = data_filtered.groupby('genre')['na_sales'].sum()\n",
    "eu_genre = data_filtered.groupby('genre')['eu_sales'].sum()\n",
    "jp_genre = data_filtered.groupby('genre')['jp_sales'].sum()\n",
    "\n",
    "x = np.arange(len(labels))\n",
    "width = 0.3\n",
    "\n",
    "fig, ax = plt.subplots(figsize=(12,6))\n",
    "g1 = ax.bar(x - width, na_genre, width, color='#3A3845', label='North America')\n",
    "g2 = ax.bar(x + width/2, eu_genre, width, color='#C69B7B', label='Europe')\n",
    "g3 = ax.bar(x - width/2, jp_genre, width, color='#F7CCAC', label='Japan')\n",
    "\n",
    "plt.title('Top Genre Per Region')\n",
    "plt.xlabel('Genre')\n",
    "plt.ylabel('Sales in USD Million')\n",
    "plt.xticks(rotation=45)\n",
    "plt.grid(axis='y')\n",
    "ax.set_xticks(x)\n",
    "ax.set_xticklabels(labels)\n",
    "ax.legend()\n",
    "\n",
    "fig.tight_layout()\n",
    "\n",
    "plt.show();"
   ]
  },
  {
   "cell_type": "markdown",
   "id": "24c4b9ec",
   "metadata": {},
   "source": [
    "Users in North America and Europe have similar preferences on genre, they like action, racing and adventure. Users in Japan prefer fighting genre, followed by action. Users from all regions don't really like simulation or puzzle. It may be because of shared culture and environment between North Americans and Europeans, while the Japanese have their own culture that impacts their preference in video games."
   ]
  },
  {
   "cell_type": "markdown",
   "id": "d39fe907",
   "metadata": {},
   "source": [
    "#### ESRB Ratings"
   ]
  },
  {
   "cell_type": "code",
   "execution_count": 64,
   "id": "ae1b6278",
   "metadata": {},
   "outputs": [
    {
     "data": {
      "image/png": "[encoded data removed]",
      "text/plain": [
       "<Figure size 720x360 with 1 Axes>"
      ]
     },
     "metadata": {
      "needs_background": "light"
     },
     "output_type": "display_data"
    }
   ],
   "source": [
    "labels = data_filtered['rating'].unique()\n",
    "na_rating = data_filtered.groupby('rating')['na_sales'].sum()\n",
    "eu_rating = data_filtered.groupby('rating')['eu_sales'].sum()\n",
    "jp_rating = data_filtered.groupby('rating')['jp_sales'].sum()\n",
    "\n",
    "x = np.arange(len(labels))\n",
    "width = 0.3\n",
    "\n",
    "fig, ax = plt.subplots(figsize=(10, 5))\n",
    "rects1 = ax.bar(x - width, na_rating, width, color='#3A3845', label='North America')\n",
    "rects2 = ax.bar(x + width/2, eu_rating, width, color='#C69B7B', label='Europe')\n",
    "rects3 = ax.bar(x - width/2, jp_rating, width, color='#F7CCAC', label='Japan')\n",
    "\n",
    "plt.title('Ratings Per Region')\n",
    "plt.ylabel('Sales in USD Million')\n",
    "plt.xlabel('Rating')\n",
    "plt.grid(axis='y')\n",
    "ax.set_xticks(x)\n",
    "ax.set_xticklabels(labels)\n",
    "ax.legend()\n",
    "\n",
    "fig.tight_layout()\n",
    "\n",
    "plt.show();"
   ]
  },
  {
   "cell_type": "markdown",
   "id": "4e415243",
   "metadata": {},
   "source": [
    "ESRB (Entertainment Software Rating Board) rating is divided into `E: everyone; E10+: everyone 10+; T: Teen; M: Mature 17+; A: Adults only 18+; RP: rating pending.` \n",
    "Users in North America and Europe have similar preferences again, mostly playing games with E rating, while users in Japan mostly play games with E10+ rating. The T rating is the lowest in all regions. In Japan, younger children are encouraged to play outside in nature and with friends rather than playing video games at home, that's probably why only children aged 10 and above play most of the video games."
   ]
  },
  {
   "cell_type": "markdown",
   "id": "ead5a712",
   "metadata": {},
   "source": [
    "### Profile of Users in Each Region\n",
    "\n",
    "<b>North America:</b> the users are people of all age, playing action games in X360. \n",
    "\n",
    "<b>Europe:</b> the users are people of all age, playing action games in PS4.\n",
    "\n",
    "<b>Japan:</b> the users are people older than 10 years old, playing fighting games in 3DS."
   ]
  },
  {
   "cell_type": "markdown",
   "id": "8fcfd5ee",
   "metadata": {},
   "source": [
    "## Hypotheses Testing"
   ]
  },
  {
   "cell_type": "markdown",
   "id": "6fa6bbc7",
   "metadata": {},
   "source": [
    "### User Ratings of the Xbox One and PC \n",
    "\n",
    "1. Null and Alternative Hypotheses\n",
    "\n",
    "H0: The means of two statistical populations are equal. In this case it means that the average user score of XOne and PC platforms are the same.\n",
    "\n",
    "H1: The means of two statistical populations are not equal. In this case it means that the average user score of XOne and PC platforms are different.\n",
    "\n",
    "2. Criteria for a decision (alpha value)\n",
    "\n",
    "In behavioral science, the level of significance is typically set at 5% and we will choose this criteria as well. When the probability of obtaining a sample mean is less than 5% if the null hypothesis were true, then we reject the value stated in the null hypothesis.\n",
    "\n",
    "3. Calculate the t-test\n",
    "\n",
    "In order to test our hypothesis that the means of two statistical populations are equal based on samples taken from them, we will apply the method scipy.stats.ttest_ind().\n",
    "\n",
    "The method takes the following parameters:\n",
    "\n",
    "- array1, array2 are arrays containing the samples. We will use the total_sales variables that we will calculate for both platforms;\n",
    "- equal_var is an optional parameter that specifies whether or not the variances of the populations should be considered equal."
   ]
  },
  {
   "cell_type": "code",
   "execution_count": 65,
   "id": "5befe018",
   "metadata": {},
   "outputs": [],
   "source": [
    "# slice the dataset for XOne and PC\n",
    "xone = data_filtered.query('platform == \"XOne\"')\n",
    "pc = data_filtered.query('platform == \"PC\"')"
   ]
  },
  {
   "cell_type": "code",
   "execution_count": 66,
   "id": "a7933c15",
   "metadata": {
    "scrolled": false
   },
   "outputs": [
    {
     "name": "stdout",
     "output_type": "stream",
     "text": [
      "index              0.000000\n",
      "name               0.000000\n",
      "platform           0.000000\n",
      "year_of_release    0.000000\n",
      "genre              0.000000\n",
      "na_sales           0.000000\n",
      "eu_sales           0.000000\n",
      "jp_sales           0.000000\n",
      "other_sales        0.000000\n",
      "critic_score       2.024291\n",
      "user_score         2.024291\n",
      "rating             0.000000\n",
      "total_sales        0.000000\n",
      "dtype: float64\n",
      "\n",
      "index              0.000000\n",
      "name               0.000000\n",
      "platform           0.000000\n",
      "year_of_release    0.000000\n",
      "genre              0.000000\n",
      "na_sales           0.000000\n",
      "eu_sales           0.000000\n",
      "jp_sales           0.000000\n",
      "other_sales        0.000000\n",
      "critic_score       0.796813\n",
      "user_score         0.796813\n",
      "rating             0.000000\n",
      "total_sales        0.000000\n",
      "dtype: float64\n"
     ]
    }
   ],
   "source": [
    "# check whether the missing values is high\n",
    "print(xone.isnull().sum() / len(xone) * 100)\n",
    "print()\n",
    "print(pc.isnull().sum() / len(pc) * 100)"
   ]
  },
  {
   "cell_type": "markdown",
   "id": "48cdf24a",
   "metadata": {},
   "source": [
    "Since the percentage is not so big, we can drop the missing values without skewing the dataset too much."
   ]
  },
  {
   "cell_type": "code",
   "execution_count": 67,
   "id": "e09aa7b1",
   "metadata": {},
   "outputs": [],
   "source": [
    "xone = xone.dropna(subset=['user_score'], axis=0)\n",
    "pc = pc.dropna(subset=['user_score'], axis=0)"
   ]
  },
  {
   "cell_type": "code",
   "execution_count": 68,
   "id": "4a433ea6",
   "metadata": {},
   "outputs": [
    {
     "name": "stdout",
     "output_type": "stream",
     "text": [
      "XOne User Rating Description\n",
      "count    242.000000\n",
      "mean       6.688223\n",
      "std        1.154136\n",
      "min        2.100000\n",
      "25%        6.200000\n",
      "50%        6.850000\n",
      "75%        7.387500\n",
      "max        9.200000\n",
      "Name: user_score, dtype: float64\n",
      "\n",
      "PC User Rating Description\n",
      "count    249.000000\n",
      "mean       6.597590\n",
      "std        1.494787\n",
      "min        1.400000\n",
      "25%        5.900000\n",
      "50%        7.000000\n",
      "75%        7.600000\n",
      "max        9.300000\n",
      "Name: user_score, dtype: float64\n"
     ]
    }
   ],
   "source": [
    "print('XOne User Rating Description')\n",
    "print(xone['user_score'].describe())\n",
    "print()\n",
    "print('PC User Rating Description')\n",
    "print(pc['user_score'].describe())"
   ]
  },
  {
   "cell_type": "markdown",
   "id": "4bf5692c",
   "metadata": {},
   "source": [
    "Based on the description above, the variance of these two plans look similar, so we will use Levene's test to see if they actually have equal variance."
   ]
  },
  {
   "cell_type": "code",
   "execution_count": 69,
   "id": "177e5b2c",
   "metadata": {},
   "outputs": [
    {
     "data": {
      "text/plain": [
       "LeveneResult(statistic=9.852358679783203, pvalue=0.0017986324524250626)"
      ]
     },
     "execution_count": 69,
     "metadata": {},
     "output_type": "execute_result"
    }
   ],
   "source": [
    "st.levene(xone['user_score'], pc['user_score'])"
   ]
  },
  {
   "cell_type": "markdown",
   "id": "ad9a9c27",
   "metadata": {},
   "source": [
    "The p-value suggests that the populations have equal variance. Then since equal_var is True by default, we won't set it."
   ]
  },
  {
   "cell_type": "code",
   "execution_count": 70,
   "id": "f80ae2de",
   "metadata": {},
   "outputs": [
    {
     "name": "stdout",
     "output_type": "stream",
     "text": [
      "p-value: 0.4532989815280314\n",
      "We retain the null hypotheses. XOne and PC's Average User Ratings are the same.\n"
     ]
    }
   ],
   "source": [
    "alpha = 0.05\n",
    "\n",
    "results = st.ttest_ind(xone['user_score'], pc['user_score'])\n",
    "\n",
    "print('p-value:',results.pvalue)\n",
    "\n",
    "if (results.pvalue < alpha):\n",
    "    print(\"We reject the null hypotheses. XOne and PC's Average User Ratings are different.\")\n",
    "else:\n",
    "    print(\"We retain the null hypotheses. XOne and PC's Average User Ratings are the same.\")"
   ]
  },
  {
   "cell_type": "markdown",
   "id": "0700999c",
   "metadata": {},
   "source": [
    "based on the p-value result, most users of XOne and PC give similar rating to games available in these two platforms."
   ]
  },
  {
   "cell_type": "markdown",
   "id": "c7f71fdc",
   "metadata": {},
   "source": [
    "### User Ratings of Action and Sports Genre\n",
    "\n",
    "1. Null and Alternative Hypotheses\n",
    "\n",
    "H0: The means of two statistical populations are equal. In this case it means that the average user score of Action and Sports genre are the same.\n",
    "\n",
    "H1: The means of two statistical populations are not equal. In this case it means that the average user score of Action and Sports genre are different.\n",
    "\n",
    "2. Criteria for a decision (alpha value)\n",
    "\n",
    "In behavioral science, the level of significance is typically set at 5% and we will choose this criteria as well. When the probability of obtaining a sample mean is less than 5% if the null hypothesis were true, then we reject the value stated in the null hypothesis.\n",
    "\n",
    "3. Calculate the t-test\n",
    "\n",
    "In order to test our hypothesis that the means of two statistical populations are equal based on samples taken from them, we will apply the method scipy.stats.ttest_ind().\n",
    "\n",
    "The method takes the following parameters:\n",
    "\n",
    "- array1, array2 are arrays containing the samples. We will use the total_sales variables that we will calculate for both platforms;\n",
    "- equal_var is an optional parameter that specifies whether or not the variances of the populations should be considered equal."
   ]
  },
  {
   "cell_type": "code",
   "execution_count": 71,
   "id": "05f3323d",
   "metadata": {},
   "outputs": [],
   "source": [
    "# slice the dataset for Action and Sports genre\n",
    "action = data_filtered.query('genre == \"Action\"')\n",
    "sports = data_filtered.query('genre == \"Sports\"')"
   ]
  },
  {
   "cell_type": "code",
   "execution_count": 72,
   "id": "9f86866a",
   "metadata": {},
   "outputs": [
    {
     "name": "stdout",
     "output_type": "stream",
     "text": [
      "index              0.000000\n",
      "name               0.000000\n",
      "platform           0.000000\n",
      "year_of_release    0.000000\n",
      "genre              0.000000\n",
      "na_sales           0.000000\n",
      "eu_sales           0.000000\n",
      "jp_sales           0.000000\n",
      "other_sales        0.000000\n",
      "critic_score       0.774443\n",
      "user_score         0.774443\n",
      "rating             0.000000\n",
      "total_sales        0.000000\n",
      "dtype: float64\n",
      "\n",
      "index              0.000000\n",
      "name               0.000000\n",
      "platform           0.000000\n",
      "year_of_release    0.000000\n",
      "genre              0.000000\n",
      "na_sales           0.000000\n",
      "eu_sales           0.000000\n",
      "jp_sales           0.000000\n",
      "other_sales        0.000000\n",
      "critic_score       3.717472\n",
      "user_score         3.717472\n",
      "rating             0.000000\n",
      "total_sales        0.000000\n",
      "dtype: float64\n"
     ]
    }
   ],
   "source": [
    "# check whether the missing values is high\n",
    "print(action.isnull().sum() / len(action) * 100)\n",
    "print()\n",
    "print(sports.isnull().sum() / len(sports) * 100)"
   ]
  },
  {
   "cell_type": "markdown",
   "id": "32edae01",
   "metadata": {},
   "source": [
    "The missing values are very low compared to overall length of the dataset, so we can drop them before the analysis."
   ]
  },
  {
   "cell_type": "code",
   "execution_count": 73,
   "id": "9cf25bf4",
   "metadata": {},
   "outputs": [],
   "source": [
    "action = action.dropna(subset=['user_score'], axis=0)\n",
    "sports = sports.dropna(subset=['user_score'], axis=0)"
   ]
  },
  {
   "cell_type": "code",
   "execution_count": 74,
   "id": "d57a3846",
   "metadata": {},
   "outputs": [
    {
     "name": "stdout",
     "output_type": "stream",
     "text": [
      "Action User Rating Description\n",
      "count    1025.000000\n",
      "mean        6.945146\n",
      "std         0.930798\n",
      "min         2.000000\n",
      "25%         6.700000\n",
      "50%         7.000000\n",
      "75%         7.350000\n",
      "max         9.100000\n",
      "Name: user_score, dtype: float64\n",
      "\n",
      "Sports User Rating Description\n",
      "count    259.000000\n",
      "mean       6.382625\n",
      "std        1.297563\n",
      "min        1.500000\n",
      "25%        5.775000\n",
      "50%        6.700000\n",
      "75%        7.275000\n",
      "max        8.950000\n",
      "Name: user_score, dtype: float64\n"
     ]
    }
   ],
   "source": [
    "print('Action User Rating Description')\n",
    "print(action['user_score'].describe())\n",
    "print()\n",
    "print('Sports User Rating Description')\n",
    "print(sports['user_score'].describe())"
   ]
  },
  {
   "cell_type": "markdown",
   "id": "94f0f7ad",
   "metadata": {},
   "source": [
    "Based on the description above, the variance of these two plans look quite different, so we will use Levene's test to see if they actually do not have equal variance."
   ]
  },
  {
   "cell_type": "code",
   "execution_count": 75,
   "id": "0951bdc9",
   "metadata": {},
   "outputs": [
    {
     "data": {
      "text/plain": [
       "LeveneResult(statistic=43.98185433916522, pvalue=4.8733058988597093e-11)"
      ]
     },
     "execution_count": 75,
     "metadata": {},
     "output_type": "execute_result"
    }
   ],
   "source": [
    "st.levene(action['user_score'], sports['user_score'])"
   ]
  },
  {
   "cell_type": "markdown",
   "id": "7223504b",
   "metadata": {},
   "source": [
    "The p-value suggests that the populations do not have equal variance. Therefore we will set equal_var to False."
   ]
  },
  {
   "cell_type": "code",
   "execution_count": 76,
   "id": "363b97c5",
   "metadata": {},
   "outputs": [
    {
     "name": "stdout",
     "output_type": "stream",
     "text": [
      "p-value: 2.0566443494801325e-10\n",
      "We reject the null hypotheses. Action and Sports' Average User Ratings are different.\n"
     ]
    }
   ],
   "source": [
    "alpha = 0.05\n",
    "\n",
    "results = st.ttest_ind(action['user_score'], sports['user_score'], equal_var=False)\n",
    "\n",
    "print('p-value:',results.pvalue)\n",
    "\n",
    "if (results.pvalue < alpha):\n",
    "    print(\"We reject the null hypotheses. Action and Sports' Average User Ratings are different.\")\n",
    "else:\n",
    "    print(\"We retain the null hypotheses. Action and Sports' Average User Ratings are the same.\")"
   ]
  },
  {
   "cell_type": "markdown",
   "id": "5812a446",
   "metadata": {},
   "source": [
    "based on the p-value result, the users give different ratings to action and sports games, despite each genre's similar popularity."
   ]
  },
  {
   "cell_type": "markdown",
   "id": "8768e39e",
   "metadata": {},
   "source": [
    "## Conclusions"
   ]
  },
  {
   "cell_type": "markdown",
   "id": "8f29b756",
   "metadata": {},
   "source": [
    "1. In this report, we have analysed the games from the year 1980 to 2016. Through this report we managed to get a closer look on each users' behaviour through their game purchase, to predict which game will more likely to succeed and plan advertising campaigns.\n",
    "2. Before going into the analysis, we have prepared the data by checking for any problems, changing the data types, categorising the data and adding relevant information into the dataset.\n",
    "3. We have performed exploratory data analysis by looking into the games' sales and how it relates to various characteristics such as the platforms, ratings and reviews:\n",
    "- Most games in this data set were released around 2007-2012, which coincides with the rise of advance technological development.\n",
    "- There are a few platforms that stand out in terms of total sales: PS2, X360, PS3, Wii, DS,and PS.\n",
    "- On average it takes around 10 years for new platforms to appear, peak and phase out, so we use the data from 2012 to to make sure the behaviour is still relevant in 2017.\n",
    "- There are no significant differences in sales for the top platforms, or how the same games perform in different platforms.\n",
    "- There is an inverse correlation between game sales and user reviews, and positive correlation between game sales and critic review.\n",
    "- Action games are the most profitable and popular genre across all genre. \n",
    "- Most users in North America and Europe don't belong to specific age group as most games they choose are of E rating, while those in Japan are mostly more than 10 years old.\n",
    "4. We have also tested two hypotheses, of which we have found that \n",
    "\n",
    "> most users of XOne and PC give similar review to games available in these two platforms\n",
    "\n",
    "> the users give different reviews to action and sports games\n",
    "\n",
    "Based on the conclusions above, we have the following suggestions for Ice:\n",
    "- Users in North America and Europe have quite similar behaviour,\n",
    "- Action games are most likely to succeed in North America and Europe, regardless of the platform. \n",
    "- PS4 and XOne are on the rise and they have phased out their predecessors."
   ]
  }
 ],
 "metadata": {
  "ExecuteTimeLog": [
   {
    "duration": 1355,
    "start_time": "2021-09-24T23:08:56.508Z"
   },
   {
    "duration": 4785,
    "start_time": "2021-09-24T23:08:57.866Z"
   },
   {
    "duration": -109,
    "start_time": "2021-09-24T23:09:02.766Z"
   },
   {
    "duration": -113,
    "start_time": "2021-09-24T23:09:02.771Z"
   },
   {
    "duration": -120,
    "start_time": "2021-09-24T23:09:02.780Z"
   },
   {
    "duration": -125,
    "start_time": "2021-09-24T23:09:02.786Z"
   },
   {
    "duration": -127,
    "start_time": "2021-09-24T23:09:02.790Z"
   },
   {
    "duration": -131,
    "start_time": "2021-09-24T23:09:02.795Z"
   },
   {
    "duration": -135,
    "start_time": "2021-09-24T23:09:02.800Z"
   },
   {
    "duration": -137,
    "start_time": "2021-09-24T23:09:02.804Z"
   },
   {
    "duration": -140,
    "start_time": "2021-09-24T23:09:02.808Z"
   },
   {
    "duration": -143,
    "start_time": "2021-09-24T23:09:02.812Z"
   },
   {
    "duration": -145,
    "start_time": "2021-09-24T23:09:02.816Z"
   },
   {
    "duration": -148,
    "start_time": "2021-09-24T23:09:02.820Z"
   },
   {
    "duration": -151,
    "start_time": "2021-09-24T23:09:02.824Z"
   },
   {
    "duration": -153,
    "start_time": "2021-09-24T23:09:02.828Z"
   },
   {
    "duration": -156,
    "start_time": "2021-09-24T23:09:02.832Z"
   },
   {
    "duration": -158,
    "start_time": "2021-09-24T23:09:02.835Z"
   },
   {
    "duration": -170,
    "start_time": "2021-09-24T23:09:02.848Z"
   },
   {
    "duration": -173,
    "start_time": "2021-09-24T23:09:02.853Z"
   },
   {
    "duration": -176,
    "start_time": "2021-09-24T23:09:02.857Z"
   },
   {
    "duration": -181,
    "start_time": "2021-09-24T23:09:02.863Z"
   },
   {
    "duration": -185,
    "start_time": "2021-09-24T23:09:02.868Z"
   },
   {
    "duration": -186,
    "start_time": "2021-09-24T23:09:02.871Z"
   },
   {
    "duration": -191,
    "start_time": "2021-09-24T23:09:02.877Z"
   },
   {
    "duration": -194,
    "start_time": "2021-09-24T23:09:02.881Z"
   },
   {
    "duration": -196,
    "start_time": "2021-09-24T23:09:02.885Z"
   },
   {
    "duration": -199,
    "start_time": "2021-09-24T23:09:02.889Z"
   },
   {
    "duration": -204,
    "start_time": "2021-09-24T23:09:02.895Z"
   },
   {
    "duration": -183,
    "start_time": "2021-09-24T23:09:02.899Z"
   },
   {
    "duration": -187,
    "start_time": "2021-09-24T23:09:02.904Z"
   },
   {
    "duration": -189,
    "start_time": "2021-09-24T23:09:02.908Z"
   },
   {
    "duration": -192,
    "start_time": "2021-09-24T23:09:02.912Z"
   },
   {
    "duration": -196,
    "start_time": "2021-09-24T23:09:02.917Z"
   },
   {
    "duration": -199,
    "start_time": "2021-09-24T23:09:02.921Z"
   },
   {
    "duration": -201,
    "start_time": "2021-09-24T23:09:02.925Z"
   },
   {
    "duration": -261,
    "start_time": "2021-09-24T23:09:02.986Z"
   },
   {
    "duration": -264,
    "start_time": "2021-09-24T23:09:02.990Z"
   },
   {
    "duration": -288,
    "start_time": "2021-09-24T23:09:03.016Z"
   },
   {
    "duration": -290,
    "start_time": "2021-09-24T23:09:03.020Z"
   },
   {
    "duration": -293,
    "start_time": "2021-09-24T23:09:03.024Z"
   },
   {
    "duration": -295,
    "start_time": "2021-09-24T23:09:03.028Z"
   },
   {
    "duration": -299,
    "start_time": "2021-09-24T23:09:03.033Z"
   },
   {
    "duration": -301,
    "start_time": "2021-09-24T23:09:03.037Z"
   },
   {
    "duration": -351,
    "start_time": "2021-09-24T23:09:03.089Z"
   },
   {
    "duration": -354,
    "start_time": "2021-09-24T23:09:03.093Z"
   },
   {
    "duration": -372,
    "start_time": "2021-09-24T23:09:03.113Z"
   },
   {
    "duration": -374,
    "start_time": "2021-09-24T23:09:03.116Z"
   },
   {
    "duration": -376,
    "start_time": "2021-09-24T23:09:03.120Z"
   },
   {
    "duration": -377,
    "start_time": "2021-09-24T23:09:03.123Z"
   },
   {
    "duration": -380,
    "start_time": "2021-09-24T23:09:03.127Z"
   },
   {
    "duration": -381,
    "start_time": "2021-09-24T23:09:03.130Z"
   },
   {
    "duration": -407,
    "start_time": "2021-09-24T23:09:03.157Z"
   },
   {
    "duration": -408,
    "start_time": "2021-09-24T23:09:03.160Z"
   },
   {
    "duration": -410,
    "start_time": "2021-09-24T23:09:03.164Z"
   },
   {
    "duration": -359,
    "start_time": "2021-09-24T23:09:03.174Z"
   },
   {
    "duration": -370,
    "start_time": "2021-09-24T23:09:03.187Z"
   },
   {
    "duration": -373,
    "start_time": "2021-09-24T23:09:03.192Z"
   },
   {
    "duration": -384,
    "start_time": "2021-09-24T23:09:03.204Z"
   },
   {
    "duration": -386,
    "start_time": "2021-09-24T23:09:03.208Z"
   },
   {
    "duration": -406,
    "start_time": "2021-09-24T23:09:03.229Z"
   },
   {
    "duration": -425,
    "start_time": "2021-09-24T23:09:03.250Z"
   },
   {
    "duration": -475,
    "start_time": "2021-09-24T23:09:03.301Z"
   },
   {
    "duration": -492,
    "start_time": "2021-09-24T23:09:03.320Z"
   },
   {
    "duration": -495,
    "start_time": "2021-09-24T23:09:03.325Z"
   },
   {
    "duration": -497,
    "start_time": "2021-09-24T23:09:03.328Z"
   },
   {
    "duration": -499,
    "start_time": "2021-09-24T23:09:03.332Z"
   },
   {
    "duration": -501,
    "start_time": "2021-09-24T23:09:03.335Z"
   },
   {
    "duration": -503,
    "start_time": "2021-09-24T23:09:03.339Z"
   },
   {
    "duration": -506,
    "start_time": "2021-09-24T23:09:03.343Z"
   },
   {
    "duration": 1396,
    "start_time": "2021-09-25T07:30:21.141Z"
   },
   {
    "duration": 7243,
    "start_time": "2021-09-25T07:30:22.540Z"
   },
   {
    "duration": -249,
    "start_time": "2021-09-25T07:30:30.038Z"
   },
   {
    "duration": -258,
    "start_time": "2021-09-25T07:30:30.048Z"
   },
   {
    "duration": -261,
    "start_time": "2021-09-25T07:30:30.053Z"
   },
   {
    "duration": -267,
    "start_time": "2021-09-25T07:30:30.060Z"
   },
   {
    "duration": -268,
    "start_time": "2021-09-25T07:30:30.063Z"
   },
   {
    "duration": -274,
    "start_time": "2021-09-25T07:30:30.070Z"
   },
   {
    "duration": -277,
    "start_time": "2021-09-25T07:30:30.075Z"
   },
   {
    "duration": -281,
    "start_time": "2021-09-25T07:30:30.080Z"
   },
   {
    "duration": -284,
    "start_time": "2021-09-25T07:30:30.084Z"
   },
   {
    "duration": -289,
    "start_time": "2021-09-25T07:30:30.090Z"
   },
   {
    "duration": -292,
    "start_time": "2021-09-25T07:30:30.095Z"
   },
   {
    "duration": -296,
    "start_time": "2021-09-25T07:30:30.100Z"
   },
   {
    "duration": -298,
    "start_time": "2021-09-25T07:30:30.104Z"
   },
   {
    "duration": -303,
    "start_time": "2021-09-25T07:30:30.110Z"
   },
   {
    "duration": -306,
    "start_time": "2021-09-25T07:30:30.114Z"
   },
   {
    "duration": -311,
    "start_time": "2021-09-25T07:30:30.120Z"
   },
   {
    "duration": -327,
    "start_time": "2021-09-25T07:30:30.137Z"
   },
   {
    "duration": -332,
    "start_time": "2021-09-25T07:30:30.143Z"
   },
   {
    "duration": -335,
    "start_time": "2021-09-25T07:30:30.147Z"
   },
   {
    "duration": -339,
    "start_time": "2021-09-25T07:30:30.152Z"
   },
   {
    "duration": -343,
    "start_time": "2021-09-25T07:30:30.157Z"
   },
   {
    "duration": -345,
    "start_time": "2021-09-25T07:30:30.161Z"
   },
   {
    "duration": -348,
    "start_time": "2021-09-25T07:30:30.165Z"
   },
   {
    "duration": -352,
    "start_time": "2021-09-25T07:30:30.170Z"
   },
   {
    "duration": -355,
    "start_time": "2021-09-25T07:30:30.174Z"
   },
   {
    "duration": -360,
    "start_time": "2021-09-25T07:30:30.180Z"
   },
   {
    "duration": -363,
    "start_time": "2021-09-25T07:30:30.185Z"
   },
   {
    "duration": -369,
    "start_time": "2021-09-25T07:30:30.192Z"
   },
   {
    "duration": -373,
    "start_time": "2021-09-25T07:30:30.197Z"
   },
   {
    "duration": -377,
    "start_time": "2021-09-25T07:30:30.202Z"
   },
   {
    "duration": -381,
    "start_time": "2021-09-25T07:30:30.207Z"
   },
   {
    "duration": -385,
    "start_time": "2021-09-25T07:30:30.213Z"
   },
   {
    "duration": -389,
    "start_time": "2021-09-25T07:30:30.218Z"
   },
   {
    "duration": -393,
    "start_time": "2021-09-25T07:30:30.223Z"
   },
   {
    "duration": -506,
    "start_time": "2021-09-25T07:30:30.337Z"
   },
   {
    "duration": -509,
    "start_time": "2021-09-25T07:30:30.342Z"
   },
   {
    "duration": -514,
    "start_time": "2021-09-25T07:30:30.348Z"
   },
   {
    "duration": -518,
    "start_time": "2021-09-25T07:30:30.353Z"
   },
   {
    "duration": -709,
    "start_time": "2021-09-25T07:30:30.545Z"
   },
   {
    "duration": -713,
    "start_time": "2021-09-25T07:30:30.550Z"
   },
   {
    "duration": -715,
    "start_time": "2021-09-25T07:30:30.553Z"
   },
   {
    "duration": -738,
    "start_time": "2021-09-25T07:30:30.577Z"
   },
   {
    "duration": -741,
    "start_time": "2021-09-25T07:30:30.581Z"
   },
   {
    "duration": -743,
    "start_time": "2021-09-25T07:30:30.584Z"
   },
   {
    "duration": -770,
    "start_time": "2021-09-25T07:30:30.613Z"
   },
   {
    "duration": -775,
    "start_time": "2021-09-25T07:30:30.619Z"
   },
   {
    "duration": -795,
    "start_time": "2021-09-25T07:30:30.640Z"
   },
   {
    "duration": -797,
    "start_time": "2021-09-25T07:30:30.644Z"
   },
   {
    "duration": -800,
    "start_time": "2021-09-25T07:30:30.648Z"
   },
   {
    "duration": -816,
    "start_time": "2021-09-25T07:30:30.665Z"
   },
   {
    "duration": -818,
    "start_time": "2021-09-25T07:30:30.669Z"
   },
   {
    "duration": -821,
    "start_time": "2021-09-25T07:30:30.673Z"
   },
   {
    "duration": -836,
    "start_time": "2021-09-25T07:30:30.689Z"
   },
   {
    "duration": -839,
    "start_time": "2021-09-25T07:30:30.693Z"
   },
   {
    "duration": -851,
    "start_time": "2021-09-25T07:30:30.707Z"
   },
   {
    "duration": -789,
    "start_time": "2021-09-25T07:30:30.712Z"
   },
   {
    "duration": -802,
    "start_time": "2021-09-25T07:30:30.727Z"
   },
   {
    "duration": -815,
    "start_time": "2021-09-25T07:30:30.741Z"
   },
   {
    "duration": -818,
    "start_time": "2021-09-25T07:30:30.745Z"
   },
   {
    "duration": -829,
    "start_time": "2021-09-25T07:30:30.758Z"
   },
   {
    "duration": -832,
    "start_time": "2021-09-25T07:30:30.762Z"
   },
   {
    "duration": -866,
    "start_time": "2021-09-25T07:30:30.797Z"
   },
   {
    "duration": -920,
    "start_time": "2021-09-25T07:30:30.853Z"
   },
   {
    "duration": -945,
    "start_time": "2021-09-25T07:30:30.880Z"
   },
   {
    "duration": -948,
    "start_time": "2021-09-25T07:30:30.884Z"
   },
   {
    "duration": -951,
    "start_time": "2021-09-25T07:30:30.888Z"
   },
   {
    "duration": -953,
    "start_time": "2021-09-25T07:30:30.892Z"
   },
   {
    "duration": -956,
    "start_time": "2021-09-25T07:30:30.896Z"
   },
   {
    "duration": 108,
    "start_time": "2021-09-25T07:33:17.530Z"
   },
   {
    "duration": 839,
    "start_time": "2021-09-25T10:40:04.692Z"
   },
   {
    "duration": 1360,
    "start_time": "2021-09-25T10:40:52.352Z"
   },
   {
    "duration": 296,
    "start_time": "2021-09-25T10:40:56.272Z"
   },
   {
    "duration": 16,
    "start_time": "2021-09-25T10:41:51.472Z"
   },
   {
    "duration": 22,
    "start_time": "2021-09-25T10:41:52.592Z"
   },
   {
    "duration": 44,
    "start_time": "2021-09-25T10:41:53.843Z"
   },
   {
    "duration": 27,
    "start_time": "2021-09-25T10:41:54.943Z"
   },
   {
    "duration": 19,
    "start_time": "2021-09-25T10:41:59.438Z"
   },
   {
    "duration": 23,
    "start_time": "2021-09-25T10:42:02.451Z"
   },
   {
    "duration": 10,
    "start_time": "2021-09-25T10:42:05.422Z"
   },
   {
    "duration": 6,
    "start_time": "2021-09-25T10:42:08.117Z"
   },
   {
    "duration": 10528,
    "start_time": "2021-09-25T10:42:33.112Z"
   },
   {
    "duration": 42,
    "start_time": "2021-09-25T10:42:43.643Z"
   },
   {
    "duration": 8,
    "start_time": "2021-09-25T10:42:51.037Z"
   },
   {
    "duration": 190,
    "start_time": "2021-09-25T10:42:51.962Z"
   },
   {
    "duration": 6,
    "start_time": "2021-09-25T10:42:52.891Z"
   },
   {
    "duration": 7,
    "start_time": "2021-09-25T10:42:56.817Z"
   },
   {
    "duration": 9,
    "start_time": "2021-09-25T10:42:59.472Z"
   },
   {
    "duration": 36,
    "start_time": "2021-09-25T10:42:59.837Z"
   },
   {
    "duration": 6,
    "start_time": "2021-09-25T10:43:03.416Z"
   },
   {
    "duration": 7,
    "start_time": "2021-09-25T10:43:08.072Z"
   },
   {
    "duration": 150,
    "start_time": "2021-09-25T10:43:12.057Z"
   },
   {
    "duration": 6,
    "start_time": "2021-09-25T10:43:12.622Z"
   },
   {
    "duration": 4861,
    "start_time": "2021-09-25T10:43:15.587Z"
   },
   {
    "duration": 7,
    "start_time": "2021-09-25T10:43:21.667Z"
   },
   {
    "duration": 23,
    "start_time": "2021-09-25T10:43:26.783Z"
   },
   {
    "duration": 7,
    "start_time": "2021-09-25T10:43:27.907Z"
   },
   {
    "duration": 28,
    "start_time": "2021-09-25T10:43:28.952Z"
   },
   {
    "duration": 22,
    "start_time": "2021-09-25T10:43:34.468Z"
   },
   {
    "duration": 10,
    "start_time": "2021-09-25T10:43:39.178Z"
   },
   {
    "duration": 20,
    "start_time": "2021-09-25T10:43:43.382Z"
   },
   {
    "duration": 353,
    "start_time": "2021-09-25T10:53:19.110Z"
   },
   {
    "duration": 253,
    "start_time": "2021-09-25T10:53:24.821Z"
   },
   {
    "duration": 673,
    "start_time": "2021-09-25T10:57:57.022Z"
   },
   {
    "duration": 10,
    "start_time": "2021-09-25T10:58:01.681Z"
   },
   {
    "duration": 7,
    "start_time": "2021-09-25T10:58:08.361Z"
   },
   {
    "duration": 2036,
    "start_time": "2021-09-25T10:58:13.571Z"
   },
   {
    "duration": 9,
    "start_time": "2021-09-25T11:14:00.227Z"
   },
   {
    "duration": 12,
    "start_time": "2021-09-25T11:14:19.246Z"
   },
   {
    "duration": 11,
    "start_time": "2021-09-25T11:14:43.808Z"
   },
   {
    "duration": 10,
    "start_time": "2021-09-25T11:14:56.512Z"
   },
   {
    "duration": 109,
    "start_time": "2021-09-25T11:18:47.901Z"
   },
   {
    "duration": 1153,
    "start_time": "2021-09-25T11:19:04.070Z"
   },
   {
    "duration": 337,
    "start_time": "2021-09-25T11:20:13.471Z"
   },
   {
    "duration": 344,
    "start_time": "2021-09-25T11:20:23.936Z"
   },
   {
    "duration": 359,
    "start_time": "2021-09-25T11:24:48.013Z"
   },
   {
    "duration": 29,
    "start_time": "2021-09-25T11:28:41.182Z"
   },
   {
    "duration": 52,
    "start_time": "2021-09-25T11:29:19.791Z"
   },
   {
    "duration": 8,
    "start_time": "2021-09-25T11:34:01.147Z"
   },
   {
    "duration": 361,
    "start_time": "2021-09-25T11:34:13.336Z"
   },
   {
    "duration": 12,
    "start_time": "2021-09-25T11:37:08.871Z"
   },
   {
    "duration": 490,
    "start_time": "2021-09-25T11:37:33.125Z"
   },
   {
    "duration": 470,
    "start_time": "2021-09-25T11:37:52.955Z"
   },
   {
    "duration": 8,
    "start_time": "2021-09-25T11:38:24.904Z"
   },
   {
    "duration": 221,
    "start_time": "2021-09-27T08:50:21.354Z"
   },
   {
    "duration": 972,
    "start_time": "2021-09-27T08:50:40.453Z"
   },
   {
    "duration": 152,
    "start_time": "2021-09-27T08:50:42.846Z"
   },
   {
    "duration": 12,
    "start_time": "2021-09-27T08:50:44.251Z"
   },
   {
    "duration": 16,
    "start_time": "2021-09-27T08:50:44.494Z"
   },
   {
    "duration": 28,
    "start_time": "2021-09-27T08:50:44.846Z"
   },
   {
    "duration": 15,
    "start_time": "2021-09-27T08:50:47.672Z"
   },
   {
    "duration": 13,
    "start_time": "2021-09-27T08:50:55.469Z"
   },
   {
    "duration": 13,
    "start_time": "2021-09-27T08:50:57.806Z"
   },
   {
    "duration": 9,
    "start_time": "2021-09-27T08:51:00.871Z"
   },
   {
    "duration": 6,
    "start_time": "2021-09-27T08:51:03.573Z"
   },
   {
    "duration": 5999,
    "start_time": "2021-09-27T08:51:05.190Z"
   },
   {
    "duration": 22,
    "start_time": "2021-09-27T08:51:11.191Z"
   },
   {
    "duration": 5,
    "start_time": "2021-09-27T08:51:22.286Z"
   },
   {
    "duration": 96,
    "start_time": "2021-09-27T08:51:22.893Z"
   },
   {
    "duration": 4,
    "start_time": "2021-09-27T08:51:23.334Z"
   },
   {
    "duration": 5,
    "start_time": "2021-09-27T08:51:26.509Z"
   },
   {
    "duration": 8,
    "start_time": "2021-09-27T08:51:28.461Z"
   },
   {
    "duration": 21,
    "start_time": "2021-09-27T08:51:29.495Z"
   },
   {
    "duration": 4,
    "start_time": "2021-09-27T08:51:32.560Z"
   },
   {
    "duration": 5,
    "start_time": "2021-09-27T08:51:33.014Z"
   },
   {
    "duration": 78,
    "start_time": "2021-09-27T08:51:35.581Z"
   },
   {
    "duration": 4,
    "start_time": "2021-09-27T08:51:36.253Z"
   },
   {
    "duration": 2527,
    "start_time": "2021-09-27T08:51:38.634Z"
   },
   {
    "duration": 5,
    "start_time": "2021-09-27T08:51:41.163Z"
   },
   {
    "duration": 14,
    "start_time": "2021-09-27T08:52:31.398Z"
   },
   {
    "duration": 5,
    "start_time": "2021-09-27T08:52:32.161Z"
   },
   {
    "duration": 14,
    "start_time": "2021-09-27T08:52:32.452Z"
   },
   {
    "duration": 15,
    "start_time": "2021-09-27T08:52:36.796Z"
   },
   {
    "duration": 6,
    "start_time": "2021-09-27T08:52:37.181Z"
   },
   {
    "duration": 13,
    "start_time": "2021-09-27T08:52:38.190Z"
   },
   {
    "duration": 207,
    "start_time": "2021-09-27T08:52:43.538Z"
   },
   {
    "duration": 156,
    "start_time": "2021-09-27T08:52:44.791Z"
   },
   {
    "duration": 298,
    "start_time": "2021-09-27T08:52:48.699Z"
   },
   {
    "duration": 5,
    "start_time": "2021-09-27T08:52:52.679Z"
   },
   {
    "duration": 1223,
    "start_time": "2021-09-27T08:52:53.441Z"
   },
   {
    "duration": 8,
    "start_time": "2021-09-27T08:53:05.471Z"
   },
   {
    "duration": 750,
    "start_time": "2021-09-27T08:53:07.868Z"
   },
   {
    "duration": 201,
    "start_time": "2021-09-27T08:53:16.281Z"
   },
   {
    "duration": 22,
    "start_time": "2021-09-27T08:53:34.433Z"
   },
   {
    "duration": 36,
    "start_time": "2021-09-27T08:53:37.730Z"
   },
   {
    "duration": 5,
    "start_time": "2021-09-27T08:53:41.440Z"
   },
   {
    "duration": 233,
    "start_time": "2021-09-27T08:53:42.692Z"
   },
   {
    "duration": 9,
    "start_time": "2021-09-27T08:53:47.028Z"
   },
   {
    "duration": 352,
    "start_time": "2021-09-27T08:53:49.878Z"
   },
   {
    "duration": 299,
    "start_time": "2021-09-27T08:53:53.239Z"
   },
   {
    "duration": 5,
    "start_time": "2021-09-27T08:53:54.780Z"
   },
   {
    "duration": 8,
    "start_time": "2021-09-27T08:54:00.191Z"
   },
   {
    "duration": 9,
    "start_time": "2021-09-27T08:55:49.014Z"
   },
   {
    "duration": 10,
    "start_time": "2021-09-27T08:55:51.990Z"
   },
   {
    "duration": 9,
    "start_time": "2021-09-27T08:55:59.470Z"
   },
   {
    "duration": 181,
    "start_time": "2021-09-27T08:58:40.207Z"
   },
   {
    "duration": 222,
    "start_time": "2021-09-27T08:59:23.116Z"
   },
   {
    "duration": 213,
    "start_time": "2021-09-27T08:59:32.480Z"
   },
   {
    "duration": 116,
    "start_time": "2021-09-27T09:01:37.820Z"
   },
   {
    "duration": 115,
    "start_time": "2021-09-27T09:01:47.461Z"
   },
   {
    "duration": 194,
    "start_time": "2021-09-27T09:01:53.433Z"
   },
   {
    "duration": 482,
    "start_time": "2021-09-27T09:03:48.613Z"
   },
   {
    "duration": 331,
    "start_time": "2021-09-27T09:04:58.893Z"
   },
   {
    "duration": 7,
    "start_time": "2021-09-27T09:07:27.599Z"
   },
   {
    "duration": 7,
    "start_time": "2021-09-27T09:07:30.660Z"
   },
   {
    "duration": 8,
    "start_time": "2021-09-27T09:07:35.742Z"
   },
   {
    "duration": 11,
    "start_time": "2021-09-27T09:07:36.930Z"
   },
   {
    "duration": 6,
    "start_time": "2021-09-27T09:07:40.358Z"
   },
   {
    "duration": 5,
    "start_time": "2021-09-27T09:07:52.649Z"
   },
   {
    "duration": 8,
    "start_time": "2021-09-27T09:08:31.419Z"
   },
   {
    "duration": 9,
    "start_time": "2021-09-27T09:08:32.451Z"
   },
   {
    "duration": 9,
    "start_time": "2021-09-27T09:08:37.751Z"
   },
   {
    "duration": 11,
    "start_time": "2021-09-27T09:08:38.711Z"
   },
   {
    "duration": 6,
    "start_time": "2021-09-27T09:08:43.451Z"
   },
   {
    "duration": 5,
    "start_time": "2021-09-27T09:08:51.519Z"
   },
   {
    "duration": 1473,
    "start_time": "2021-09-28T09:14:25.077Z"
   },
   {
    "duration": 277,
    "start_time": "2021-09-28T09:14:26.553Z"
   },
   {
    "duration": 14,
    "start_time": "2021-09-28T09:14:26.833Z"
   },
   {
    "duration": 24,
    "start_time": "2021-09-28T09:14:26.850Z"
   },
   {
    "duration": 71,
    "start_time": "2021-09-28T09:14:26.876Z"
   },
   {
    "duration": 29,
    "start_time": "2021-09-28T09:14:26.949Z"
   },
   {
    "duration": 35,
    "start_time": "2021-09-28T09:14:26.981Z"
   },
   {
    "duration": 20,
    "start_time": "2021-09-28T09:14:27.020Z"
   },
   {
    "duration": 12,
    "start_time": "2021-09-28T09:14:27.043Z"
   },
   {
    "duration": 7,
    "start_time": "2021-09-28T09:14:27.057Z"
   },
   {
    "duration": 10810,
    "start_time": "2021-09-28T09:14:27.066Z"
   },
   {
    "duration": 53,
    "start_time": "2021-09-28T09:14:37.878Z"
   },
   {
    "duration": 7,
    "start_time": "2021-09-28T09:14:37.933Z"
   },
   {
    "duration": 198,
    "start_time": "2021-09-28T09:14:37.942Z"
   },
   {
    "duration": 5,
    "start_time": "2021-09-28T09:14:38.143Z"
   },
   {
    "duration": 8,
    "start_time": "2021-09-28T09:14:38.150Z"
   },
   {
    "duration": 11,
    "start_time": "2021-09-28T09:14:38.160Z"
   },
   {
    "duration": 59,
    "start_time": "2021-09-28T09:14:38.173Z"
   },
   {
    "duration": 6,
    "start_time": "2021-09-28T09:14:38.234Z"
   },
   {
    "duration": 21,
    "start_time": "2021-09-28T09:14:38.242Z"
   },
   {
    "duration": 156,
    "start_time": "2021-09-28T09:14:38.265Z"
   },
   {
    "duration": 6,
    "start_time": "2021-09-28T09:14:38.424Z"
   },
   {
    "duration": 4828,
    "start_time": "2021-09-28T09:14:38.437Z"
   },
   {
    "duration": 6,
    "start_time": "2021-09-28T09:14:43.269Z"
   },
   {
    "duration": 52,
    "start_time": "2021-09-28T09:14:43.277Z"
   },
   {
    "duration": 7,
    "start_time": "2021-09-28T09:14:43.331Z"
   },
   {
    "duration": 32,
    "start_time": "2021-09-28T09:14:43.340Z"
   },
   {
    "duration": 35,
    "start_time": "2021-09-28T09:14:43.374Z"
   },
   {
    "duration": 7,
    "start_time": "2021-09-28T09:14:43.412Z"
   },
   {
    "duration": 42,
    "start_time": "2021-09-28T09:14:43.421Z"
   },
   {
    "duration": 351,
    "start_time": "2021-09-28T09:14:43.465Z"
   },
   {
    "duration": 272,
    "start_time": "2021-09-28T09:14:43.819Z"
   },
   {
    "duration": 503,
    "start_time": "2021-09-28T09:14:44.093Z"
   },
   {
    "duration": 8,
    "start_time": "2021-09-28T09:14:44.598Z"
   },
   {
    "duration": 2112,
    "start_time": "2021-09-28T09:14:44.617Z"
   },
   {
    "duration": 11,
    "start_time": "2021-09-28T09:14:46.732Z"
   },
   {
    "duration": 1263,
    "start_time": "2021-09-28T09:14:46.745Z"
   },
   {
    "duration": 346,
    "start_time": "2021-09-28T09:14:48.016Z"
   },
   {
    "duration": 31,
    "start_time": "2021-09-28T09:14:48.364Z"
   },
   {
    "duration": 54,
    "start_time": "2021-09-28T09:14:48.417Z"
   },
   {
    "duration": 8,
    "start_time": "2021-09-28T09:14:48.473Z"
   },
   {
    "duration": 390,
    "start_time": "2021-09-28T09:14:48.483Z"
   },
   {
    "duration": 13,
    "start_time": "2021-09-28T09:14:48.875Z"
   },
   {
    "duration": 598,
    "start_time": "2021-09-28T09:14:48.891Z"
   },
   {
    "duration": 518,
    "start_time": "2021-09-28T09:14:49.492Z"
   },
   {
    "duration": 7,
    "start_time": "2021-09-28T09:14:50.012Z"
   },
   {
    "duration": 20,
    "start_time": "2021-09-28T09:14:50.022Z"
   },
   {
    "duration": 19,
    "start_time": "2021-09-28T09:14:50.045Z"
   },
   {
    "duration": 14,
    "start_time": "2021-09-28T09:14:50.067Z"
   },
   {
    "duration": 317,
    "start_time": "2021-09-28T09:14:50.116Z"
   },
   {
    "duration": 356,
    "start_time": "2021-09-28T09:14:50.436Z"
   },
   {
    "duration": 378,
    "start_time": "2021-09-28T09:14:50.795Z"
   },
   {
    "duration": 208,
    "start_time": "2021-09-28T09:14:51.175Z"
   },
   {
    "duration": 213,
    "start_time": "2021-09-28T09:14:51.385Z"
   },
   {
    "duration": 292,
    "start_time": "2021-09-28T09:14:51.601Z"
   },
   {
    "duration": 675,
    "start_time": "2021-09-28T09:14:51.895Z"
   },
   {
    "duration": 481,
    "start_time": "2021-09-28T09:14:52.573Z"
   },
   {
    "duration": 12,
    "start_time": "2021-09-28T09:14:53.057Z"
   },
   {
    "duration": 13,
    "start_time": "2021-09-28T09:14:53.072Z"
   },
   {
    "duration": 16,
    "start_time": "2021-09-28T09:14:53.117Z"
   },
   {
    "duration": 25,
    "start_time": "2021-09-28T09:14:53.137Z"
   },
   {
    "duration": 12,
    "start_time": "2021-09-28T09:14:53.164Z"
   },
   {
    "duration": 39,
    "start_time": "2021-09-28T09:14:53.178Z"
   },
   {
    "duration": 17,
    "start_time": "2021-09-28T09:14:53.220Z"
   },
   {
    "duration": 15,
    "start_time": "2021-09-28T09:14:53.239Z"
   },
   {
    "duration": 14,
    "start_time": "2021-09-28T09:14:53.256Z"
   },
   {
    "duration": 54,
    "start_time": "2021-09-28T09:14:53.272Z"
   },
   {
    "duration": 7,
    "start_time": "2021-09-28T09:14:53.333Z"
   },
   {
    "duration": 7,
    "start_time": "2021-09-28T09:14:53.343Z"
   },
   {
    "duration": 8,
    "start_time": "2021-09-28T09:44:46.152Z"
   },
   {
    "duration": 89,
    "start_time": "2021-09-28T12:57:00.560Z"
   },
   {
    "duration": 1113,
    "start_time": "2021-09-28T13:19:45.347Z"
   },
   {
    "duration": 190,
    "start_time": "2021-09-28T13:19:49.182Z"
   },
   {
    "duration": 15,
    "start_time": "2021-09-28T13:19:55.838Z"
   },
   {
    "duration": 17,
    "start_time": "2021-09-28T13:19:56.309Z"
   },
   {
    "duration": 32,
    "start_time": "2021-09-28T13:19:57.043Z"
   },
   {
    "duration": 19,
    "start_time": "2021-09-28T13:19:57.662Z"
   },
   {
    "duration": 14,
    "start_time": "2021-09-28T13:20:08.373Z"
   },
   {
    "duration": 18,
    "start_time": "2021-09-28T13:20:13.544Z"
   },
   {
    "duration": 8,
    "start_time": "2021-09-28T13:20:14.530Z"
   },
   {
    "duration": 6,
    "start_time": "2021-09-28T13:20:15.241Z"
   },
   {
    "duration": 6504,
    "start_time": "2021-09-28T13:20:17.206Z"
   },
   {
    "duration": 19,
    "start_time": "2021-09-28T13:20:34.090Z"
   },
   {
    "duration": 6,
    "start_time": "2021-09-28T13:20:35.388Z"
   },
   {
    "duration": 90,
    "start_time": "2021-09-28T13:20:35.865Z"
   },
   {
    "duration": 5,
    "start_time": "2021-09-28T13:20:36.322Z"
   },
   {
    "duration": 5,
    "start_time": "2021-09-28T13:20:42.117Z"
   },
   {
    "duration": 8,
    "start_time": "2021-09-28T13:20:45.074Z"
   },
   {
    "duration": 20,
    "start_time": "2021-09-28T13:20:45.440Z"
   },
   {
    "duration": 5,
    "start_time": "2021-09-28T13:20:50.104Z"
   },
   {
    "duration": 6,
    "start_time": "2021-09-28T13:20:50.562Z"
   },
   {
    "duration": 77,
    "start_time": "2021-09-28T13:20:54.756Z"
   },
   {
    "duration": 5,
    "start_time": "2021-09-28T13:20:55.099Z"
   },
   {
    "duration": 2543,
    "start_time": "2021-09-28T13:20:58.506Z"
   },
   {
    "duration": 6,
    "start_time": "2021-09-28T13:21:01.051Z"
   },
   {
    "duration": 14,
    "start_time": "2021-09-28T13:21:05.772Z"
   },
   {
    "duration": 5,
    "start_time": "2021-09-28T13:21:06.065Z"
   },
   {
    "duration": 14,
    "start_time": "2021-09-28T13:21:08.437Z"
   },
   {
    "duration": 15,
    "start_time": "2021-09-28T13:21:13.217Z"
   },
   {
    "duration": 5,
    "start_time": "2021-09-28T13:21:14.356Z"
   },
   {
    "duration": 12,
    "start_time": "2021-09-28T13:21:14.908Z"
   },
   {
    "duration": 211,
    "start_time": "2021-09-28T13:21:20.838Z"
   },
   {
    "duration": 152,
    "start_time": "2021-09-28T13:21:24.531Z"
   },
   {
    "duration": 273,
    "start_time": "2021-09-28T13:21:29.637Z"
   },
   {
    "duration": 5,
    "start_time": "2021-09-28T13:21:33.506Z"
   },
   {
    "duration": 1192,
    "start_time": "2021-09-28T13:21:34.345Z"
   },
   {
    "duration": 90,
    "start_time": "2021-09-28T13:28:22.614Z"
   },
   {
    "duration": 89,
    "start_time": "2021-09-28T13:28:29.876Z"
   },
   {
    "duration": 9,
    "start_time": "2021-09-28T13:28:52.736Z"
   },
   {
    "duration": 758,
    "start_time": "2021-09-28T13:28:56.295Z"
   },
   {
    "duration": 191,
    "start_time": "2021-09-28T13:29:02.615Z"
   },
   {
    "duration": 19,
    "start_time": "2021-09-28T13:29:07.368Z"
   },
   {
    "duration": 33,
    "start_time": "2021-09-28T13:29:07.973Z"
   },
   {
    "duration": 6,
    "start_time": "2021-09-28T13:29:08.564Z"
   },
   {
    "duration": 224,
    "start_time": "2021-09-28T13:29:08.738Z"
   },
   {
    "duration": 9,
    "start_time": "2021-09-28T13:29:10.184Z"
   },
   {
    "duration": 360,
    "start_time": "2021-09-28T13:29:10.551Z"
   },
   {
    "duration": 351,
    "start_time": "2021-09-28T13:29:10.913Z"
   },
   {
    "duration": 5,
    "start_time": "2021-09-28T13:29:12.575Z"
   },
   {
    "duration": 8,
    "start_time": "2021-09-28T13:29:17.084Z"
   },
   {
    "duration": 10,
    "start_time": "2021-09-28T13:29:17.545Z"
   },
   {
    "duration": 10,
    "start_time": "2021-09-28T13:29:17.641Z"
   },
   {
    "duration": 182,
    "start_time": "2021-09-28T13:29:18.869Z"
   },
   {
    "duration": 199,
    "start_time": "2021-09-28T13:29:23.168Z"
   },
   {
    "duration": 204,
    "start_time": "2021-09-28T13:29:25.951Z"
   },
   {
    "duration": 118,
    "start_time": "2021-09-28T13:29:38.770Z"
   },
   {
    "duration": 110,
    "start_time": "2021-09-28T13:29:40.977Z"
   },
   {
    "duration": 192,
    "start_time": "2021-09-28T13:29:42.178Z"
   },
   {
    "duration": 448,
    "start_time": "2021-09-28T13:29:47.760Z"
   },
   {
    "duration": 310,
    "start_time": "2021-09-28T13:30:06.946Z"
   },
   {
    "duration": 8,
    "start_time": "2021-09-28T13:31:28.942Z"
   },
   {
    "duration": 8,
    "start_time": "2021-09-28T13:31:29.230Z"
   },
   {
    "duration": 8,
    "start_time": "2021-09-28T13:31:33.769Z"
   },
   {
    "duration": 11,
    "start_time": "2021-09-28T13:31:34.027Z"
   },
   {
    "duration": 7,
    "start_time": "2021-09-28T13:31:35.014Z"
   },
   {
    "duration": 7,
    "start_time": "2021-09-28T13:31:36.733Z"
   },
   {
    "duration": 8,
    "start_time": "2021-09-28T13:31:40.847Z"
   },
   {
    "duration": 8,
    "start_time": "2021-09-28T13:31:41.033Z"
   },
   {
    "duration": 8,
    "start_time": "2021-09-28T13:31:45.053Z"
   },
   {
    "duration": 10,
    "start_time": "2021-09-28T13:31:45.303Z"
   },
   {
    "duration": 6,
    "start_time": "2021-09-28T13:32:01.769Z"
   },
   {
    "duration": 5,
    "start_time": "2021-09-28T13:32:05.003Z"
   },
   {
    "duration": 5,
    "start_time": "2021-09-28T13:32:06.216Z"
   },
   {
    "duration": 5,
    "start_time": "2021-09-28T13:32:42.508Z"
   },
   {
    "duration": 5,
    "start_time": "2021-09-28T13:34:37.470Z"
   },
   {
    "duration": 1445,
    "start_time": "2021-09-28T16:48:01.873Z"
   },
   {
    "duration": 259,
    "start_time": "2021-09-28T16:48:03.321Z"
   },
   {
    "duration": 19,
    "start_time": "2021-09-28T16:48:03.583Z"
   },
   {
    "duration": 39,
    "start_time": "2021-09-28T16:48:03.605Z"
   },
   {
    "duration": 53,
    "start_time": "2021-09-28T16:48:03.646Z"
   },
   {
    "duration": 23,
    "start_time": "2021-09-28T16:48:03.701Z"
   },
   {
    "duration": 40,
    "start_time": "2021-09-28T16:48:03.726Z"
   },
   {
    "duration": 26,
    "start_time": "2021-09-28T16:48:03.770Z"
   },
   {
    "duration": 11,
    "start_time": "2021-09-28T16:48:03.799Z"
   },
   {
    "duration": 13,
    "start_time": "2021-09-28T16:48:03.813Z"
   },
   {
    "duration": 10557,
    "start_time": "2021-09-28T16:48:03.829Z"
   },
   {
    "duration": 34,
    "start_time": "2021-09-28T16:48:14.389Z"
   },
   {
    "duration": 36,
    "start_time": "2021-09-28T16:48:14.426Z"
   },
   {
    "duration": 211,
    "start_time": "2021-09-28T16:48:14.464Z"
   },
   {
    "duration": 5,
    "start_time": "2021-09-28T16:48:14.678Z"
   },
   {
    "duration": 10,
    "start_time": "2021-09-28T16:48:14.685Z"
   },
   {
    "duration": 14,
    "start_time": "2021-09-28T16:48:14.698Z"
   },
   {
    "duration": 57,
    "start_time": "2021-09-28T16:48:14.714Z"
   },
   {
    "duration": 7,
    "start_time": "2021-09-28T16:48:14.773Z"
   },
   {
    "duration": 18,
    "start_time": "2021-09-28T16:48:14.782Z"
   },
   {
    "duration": 154,
    "start_time": "2021-09-28T16:48:14.802Z"
   },
   {
    "duration": 6,
    "start_time": "2021-09-28T16:48:14.959Z"
   },
   {
    "duration": 4786,
    "start_time": "2021-09-28T16:48:14.971Z"
   },
   {
    "duration": 7,
    "start_time": "2021-09-28T16:48:19.763Z"
   },
   {
    "duration": 39,
    "start_time": "2021-09-28T16:48:19.773Z"
   },
   {
    "duration": 13,
    "start_time": "2021-09-28T16:48:19.815Z"
   },
   {
    "duration": 34,
    "start_time": "2021-09-28T16:48:19.831Z"
   },
   {
    "duration": 26,
    "start_time": "2021-09-28T16:48:19.868Z"
   },
   {
    "duration": 12,
    "start_time": "2021-09-28T16:48:19.896Z"
   },
   {
    "duration": 40,
    "start_time": "2021-09-28T16:48:19.910Z"
   },
   {
    "duration": 382,
    "start_time": "2021-09-28T16:48:19.952Z"
   },
   {
    "duration": 293,
    "start_time": "2021-09-28T16:48:20.337Z"
   },
   {
    "duration": 513,
    "start_time": "2021-09-28T16:48:20.632Z"
   },
   {
    "duration": 14,
    "start_time": "2021-09-28T16:48:21.148Z"
   },
   {
    "duration": 2146,
    "start_time": "2021-09-28T16:48:21.165Z"
   },
   {
    "duration": 11,
    "start_time": "2021-09-28T16:48:23.313Z"
   },
   {
    "duration": 1261,
    "start_time": "2021-09-28T16:48:23.327Z"
   },
   {
    "duration": 352,
    "start_time": "2021-09-28T16:48:24.591Z"
   },
   {
    "duration": 41,
    "start_time": "2021-09-28T16:48:24.945Z"
   },
   {
    "duration": 76,
    "start_time": "2021-09-28T16:48:24.988Z"
   },
   {
    "duration": 8,
    "start_time": "2021-09-28T16:48:25.066Z"
   },
   {
    "duration": 394,
    "start_time": "2021-09-28T16:48:25.076Z"
   },
   {
    "duration": 13,
    "start_time": "2021-09-28T16:48:25.472Z"
   },
   {
    "duration": 440,
    "start_time": "2021-09-28T16:48:25.488Z"
   },
   {
    "duration": 492,
    "start_time": "2021-09-28T16:48:25.931Z"
   },
   {
    "duration": 6,
    "start_time": "2021-09-28T16:48:26.425Z"
   },
   {
    "duration": 47,
    "start_time": "2021-09-28T16:48:26.434Z"
   },
   {
    "duration": 25,
    "start_time": "2021-09-28T16:48:26.484Z"
   },
   {
    "duration": 30,
    "start_time": "2021-09-28T16:48:26.512Z"
   },
   {
    "duration": 308,
    "start_time": "2021-09-28T16:48:26.545Z"
   },
   {
    "duration": 372,
    "start_time": "2021-09-28T16:48:26.856Z"
   },
   {
    "duration": 395,
    "start_time": "2021-09-28T16:48:27.230Z"
   },
   {
    "duration": 212,
    "start_time": "2021-09-28T16:48:27.627Z"
   },
   {
    "duration": 258,
    "start_time": "2021-09-28T16:48:27.842Z"
   },
   {
    "duration": 439,
    "start_time": "2021-09-28T16:48:28.104Z"
   },
   {
    "duration": 670,
    "start_time": "2021-09-28T16:48:28.546Z"
   },
   {
    "duration": 467,
    "start_time": "2021-09-28T16:48:29.219Z"
   },
   {
    "duration": 11,
    "start_time": "2021-09-28T16:48:29.689Z"
   },
   {
    "duration": 13,
    "start_time": "2021-09-28T16:48:29.703Z"
   },
   {
    "duration": 15,
    "start_time": "2021-09-28T16:48:29.718Z"
   },
   {
    "duration": 26,
    "start_time": "2021-09-28T16:48:29.763Z"
   },
   {
    "duration": 28,
    "start_time": "2021-09-28T16:48:29.792Z"
   },
   {
    "duration": 9,
    "start_time": "2021-09-28T16:48:29.823Z"
   },
   {
    "duration": 14,
    "start_time": "2021-09-28T16:48:29.834Z"
   },
   {
    "duration": 18,
    "start_time": "2021-09-28T16:48:29.850Z"
   },
   {
    "duration": 17,
    "start_time": "2021-09-28T16:48:29.870Z"
   },
   {
    "duration": 20,
    "start_time": "2021-09-28T16:48:29.890Z"
   },
   {
    "duration": 7,
    "start_time": "2021-09-28T16:48:29.917Z"
   },
   {
    "duration": 7,
    "start_time": "2021-09-28T16:48:29.927Z"
   },
   {
    "duration": 1370,
    "start_time": "2021-09-29T12:59:06.108Z"
   },
   {
    "duration": 250,
    "start_time": "2021-09-29T12:59:07.481Z"
   },
   {
    "duration": 14,
    "start_time": "2021-09-29T12:59:07.734Z"
   },
   {
    "duration": 22,
    "start_time": "2021-09-29T12:59:07.751Z"
   },
   {
    "duration": 94,
    "start_time": "2021-09-29T12:59:07.776Z"
   },
   {
    "duration": 31,
    "start_time": "2021-09-29T12:59:07.873Z"
   },
   {
    "duration": 31,
    "start_time": "2021-09-29T12:59:07.907Z"
   },
   {
    "duration": 29,
    "start_time": "2021-09-29T12:59:07.942Z"
   },
   {
    "duration": 19,
    "start_time": "2021-09-29T12:59:07.974Z"
   },
   {
    "duration": 29,
    "start_time": "2021-09-29T12:59:07.995Z"
   },
   {
    "duration": 10329,
    "start_time": "2021-09-29T12:59:08.027Z"
   },
   {
    "duration": 31,
    "start_time": "2021-09-29T12:59:18.359Z"
   },
   {
    "duration": 30,
    "start_time": "2021-09-29T12:59:18.393Z"
   },
   {
    "duration": 184,
    "start_time": "2021-09-29T12:59:18.425Z"
   },
   {
    "duration": 5,
    "start_time": "2021-09-29T12:59:18.611Z"
   },
   {
    "duration": 8,
    "start_time": "2021-09-29T12:59:18.622Z"
   },
   {
    "duration": 17,
    "start_time": "2021-09-29T12:59:18.633Z"
   },
   {
    "duration": 33,
    "start_time": "2021-09-29T12:59:18.652Z"
   },
   {
    "duration": 6,
    "start_time": "2021-09-29T12:59:18.687Z"
   },
   {
    "duration": 7,
    "start_time": "2021-09-29T12:59:18.722Z"
   },
   {
    "duration": 151,
    "start_time": "2021-09-29T12:59:18.731Z"
   },
   {
    "duration": 6,
    "start_time": "2021-09-29T12:59:18.884Z"
   },
   {
    "duration": 4801,
    "start_time": "2021-09-29T12:59:18.897Z"
   },
   {
    "duration": 6,
    "start_time": "2021-09-29T12:59:23.702Z"
   },
   {
    "duration": 32,
    "start_time": "2021-09-29T12:59:23.710Z"
   },
   {
    "duration": 7,
    "start_time": "2021-09-29T12:59:23.744Z"
   },
   {
    "duration": 35,
    "start_time": "2021-09-29T12:59:23.753Z"
   },
   {
    "duration": 54,
    "start_time": "2021-09-29T12:59:23.790Z"
   },
   {
    "duration": 6,
    "start_time": "2021-09-29T12:59:23.846Z"
   },
   {
    "duration": 33,
    "start_time": "2021-09-29T12:59:23.854Z"
   },
   {
    "duration": 362,
    "start_time": "2021-09-29T12:59:23.890Z"
   },
   {
    "duration": 271,
    "start_time": "2021-09-29T12:59:24.255Z"
   },
   {
    "duration": 493,
    "start_time": "2021-09-29T12:59:24.529Z"
   },
   {
    "duration": 7,
    "start_time": "2021-09-29T12:59:25.025Z"
   },
   {
    "duration": 2053,
    "start_time": "2021-09-29T12:59:25.035Z"
   },
   {
    "duration": 12,
    "start_time": "2021-09-29T12:59:27.091Z"
   },
   {
    "duration": 1190,
    "start_time": "2021-09-29T12:59:27.122Z"
   },
   {
    "duration": 336,
    "start_time": "2021-09-29T12:59:28.314Z"
   },
   {
    "duration": 32,
    "start_time": "2021-09-29T12:59:28.652Z"
   },
   {
    "duration": 78,
    "start_time": "2021-09-29T12:59:28.687Z"
   },
   {
    "duration": 9,
    "start_time": "2021-09-29T12:59:28.768Z"
   },
   {
    "duration": 398,
    "start_time": "2021-09-29T12:59:28.780Z"
   },
   {
    "duration": 12,
    "start_time": "2021-09-29T12:59:29.181Z"
   },
   {
    "duration": 469,
    "start_time": "2021-09-29T12:59:29.195Z"
   },
   {
    "duration": 538,
    "start_time": "2021-09-29T12:59:29.667Z"
   },
   {
    "duration": 7,
    "start_time": "2021-09-29T12:59:30.208Z"
   },
   {
    "duration": 31,
    "start_time": "2021-09-29T12:59:30.223Z"
   },
   {
    "duration": 44,
    "start_time": "2021-09-29T12:59:30.257Z"
   },
   {
    "duration": 19,
    "start_time": "2021-09-29T12:59:30.304Z"
   },
   {
    "duration": 316,
    "start_time": "2021-09-29T12:59:30.326Z"
   },
   {
    "duration": 387,
    "start_time": "2021-09-29T12:59:30.645Z"
   },
   {
    "duration": 396,
    "start_time": "2021-09-29T12:59:31.035Z"
   },
   {
    "duration": 200,
    "start_time": "2021-09-29T12:59:31.434Z"
   },
   {
    "duration": 197,
    "start_time": "2021-09-29T12:59:31.637Z"
   },
   {
    "duration": 288,
    "start_time": "2021-09-29T12:59:31.836Z"
   },
   {
    "duration": 667,
    "start_time": "2021-09-29T12:59:32.127Z"
   },
   {
    "duration": 509,
    "start_time": "2021-09-29T12:59:32.797Z"
   },
   {
    "duration": 14,
    "start_time": "2021-09-29T12:59:33.309Z"
   },
   {
    "duration": 20,
    "start_time": "2021-09-29T12:59:33.325Z"
   },
   {
    "duration": 16,
    "start_time": "2021-09-29T12:59:33.348Z"
   },
   {
    "duration": 26,
    "start_time": "2021-09-29T12:59:33.367Z"
   },
   {
    "duration": 30,
    "start_time": "2021-09-29T12:59:33.396Z"
   },
   {
    "duration": 8,
    "start_time": "2021-09-29T12:59:33.429Z"
   },
   {
    "duration": 13,
    "start_time": "2021-09-29T12:59:33.440Z"
   },
   {
    "duration": 14,
    "start_time": "2021-09-29T12:59:33.455Z"
   },
   {
    "duration": 52,
    "start_time": "2021-09-29T12:59:33.472Z"
   },
   {
    "duration": 18,
    "start_time": "2021-09-29T12:59:33.526Z"
   },
   {
    "duration": 6,
    "start_time": "2021-09-29T12:59:33.551Z"
   },
   {
    "duration": 9,
    "start_time": "2021-09-29T12:59:33.560Z"
   }
  ],
  "kernelspec": {
   "display_name": "Python 3",
   "language": "python",
   "name": "python3"
  },
  "language_info": {
   "codemirror_mode": {
    "name": "ipython",
    "version": 3
   },
   "file_extension": ".py",
   "mimetype": "text/x-python",
   "name": "python",
   "nbconvert_exporter": "python",
   "pygments_lexer": "ipython3",
   "version": "3.8.8"
  },
  "toc": {
   "base_numbering": 1,
   "nav_menu": {},
   "number_sections": true,
   "sideBar": true,
   "skip_h1_title": true,
   "title_cell": "Table of Contents",
   "title_sidebar": "Contents",
   "toc_cell": false,
   "toc_position": {},
   "toc_section_display": true,
   "toc_window_display": false
  }
 },
 "nbformat": 4,
 "nbformat_minor": 5
}
